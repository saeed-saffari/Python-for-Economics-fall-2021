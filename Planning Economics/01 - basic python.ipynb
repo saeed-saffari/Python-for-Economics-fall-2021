{
 "cells": [
  {
   "cell_type": "markdown",
   "metadata": {
    "id": "cC84jca2O03C"
   },
   "source": [
    "# 1. Introduction to Python"
   ]
  },
  {
   "cell_type": "markdown",
   "metadata": {
    "id": "0-1r_Hc091ae"
   },
   "source": [
    "Python is a programming language.\n",
    "It is not a mathematics-oriented language in and of itself.\n",
    "It is a general-purpose language, meaning we can do pretty much what we want with it.\n",
    "\n",
    "[![Python](https://imgs.xkcd.com/comics/python.png)](https://xkcd.com/353/)\n",
    "\n",
    "Here is a (supershort) list of what humanity did with Python:\n",
    "\n",
    "- Dropbox (Source: [Dropbox Blog](https://blogs.dropbox.com/tech/2018/09/how-we-rolled-out-one-of-the-largest-python-3-migrations-ever/))\n",
    "- Image editing ([The GNU Image Manipulation Program](https://www.gimp.org/))\n",
    "- Vector graphics ([Inkscape](https://inkscape.org/))\n",
    "- 3D modeling ([Blender](https://www.blender.org/))\n",
    "- Desktop publishing ([Scribus](https://www.scribus.net/))\n",
    "- Web pages ([Reddit](https://www.reddit.com/), Source: [Reddit Blog](https://redditblog.com/2005/12/05/on-lisp/))\n",
    "\n",
    "Also in economics we have a great sites like [QuantEcon](https://quantecon.org) by **Prof. Sargent** and his team and you can find many economics models on it.\n",
    "\n"
   ]
  },
  {
   "cell_type": "markdown",
   "metadata": {
    "id": "x4N6oozLOxqz"
   },
   "source": [
    "# 2. How to work with the notebooks in colab/binder"
   ]
  },
  {
   "cell_type": "markdown",
   "metadata": {
    "id": "xZUBMdxjFeJT"
   },
   "source": [
    "Notebooks:\n",
    "- notebook as a collection of cells\n",
    "- two main cell types: text (markdown) and code\n",
    "- click on a cell to edit the contents\n",
    "- Shift+Enter to run the code within a code cell or render the text cell\n",
    "- be aware of the execution order\n",
    "- installing necessary modules with pip and conda\n",
    "\n"
   ]
  },
  {
   "cell_type": "markdown",
   "metadata": {
    "id": "6BIXHlcSOl_S"
   },
   "source": [
    "# 3. The Basics"
   ]
  },
  {
   "cell_type": "markdown",
   "metadata": {
    "id": "_VO4R8Gv91aj"
   },
   "source": [
    "Python alone cannot do much.\n",
    "For this reason, we are almost always going to work with a package (see below).\n",
    "However, it is fundamental to understand the basics.\n",
    "This involves familiarizing with the _syntax_ and with the basic _data types_.\n",
    "\n",
    "Syntax is the set of rules that govern writing code.\n",
    "This includes how to write an _assignment_ (providing a variable with a value), how to call functions and how to access items in a iterable object (e.g., lists, arrays).\n",
    "It also includes _code blocks,_ which execute conditionally on a given rule (e.g., `if`, `while`).\n"
   ]
  },
  {
   "cell_type": "markdown",
   "metadata": {},
   "source": [
    "$$ \\sqrt{2^x} \\frac{x^3}{\\sqrt{2^{3x}}}$$"
   ]
  },
  {
   "cell_type": "code",
   "execution_count": 1,
   "metadata": {
    "colab": {
     "base_uri": "https://localhost:8080/"
    },
    "executionInfo": {
     "elapsed": 605,
     "status": "ok",
     "timestamp": 1635425593495,
     "user": {
      "displayName": "Saeed Saffari",
      "photoUrl": "https://lh3.googleusercontent.com/a-/AOh14Ggy3xY3nWqLhkTbpACPCI3HieZ0mqe6UFpCaLNbkw=s64",
      "userId": "13025103434633180107"
     },
     "user_tz": -210
    },
    "id": "KGW6Vm6F9eKh",
    "outputId": "79f982eb-536c-4080-eaa1-b7e93a60320f"
   },
   "outputs": [
    {
     "name": "stdout",
     "output_type": "stream",
     "text": [
      "The Zen of Python, by Tim Peters\n",
      "\n",
      "Beautiful is better than ugly.\n",
      "Explicit is better than implicit.\n",
      "Simple is better than complex.\n",
      "Complex is better than complicated.\n",
      "Flat is better than nested.\n",
      "Sparse is better than dense.\n",
      "Readability counts.\n",
      "Special cases aren't special enough to break the rules.\n",
      "Although practicality beats purity.\n",
      "Errors should never pass silently.\n",
      "Unless explicitly silenced.\n",
      "In the face of ambiguity, refuse the temptation to guess.\n",
      "There should be one-- and preferably only one --obvious way to do it.\n",
      "Although that way may not be obvious at first unless you're Dutch.\n",
      "Now is better than never.\n",
      "Although never is often better than *right* now.\n",
      "If the implementation is hard to explain, it's a bad idea.\n",
      "If the implementation is easy to explain, it may be a good idea.\n",
      "Namespaces are one honking great idea -- let's do more of those!\n"
     ]
    }
   ],
   "source": [
    "import this"
   ]
  },
  {
   "cell_type": "markdown",
   "metadata": {
    "id": "9tFB0-7lOjSs"
   },
   "source": [
    "## 3.1 Arithmetic operations and variables"
   ]
  },
  {
   "cell_type": "markdown",
   "metadata": {
    "id": "v5wykTSl9d3D"
   },
   "source": [
    "Let's start with basic calculations in Python. Entering some arithmetic operation in the code cell below (e.g. `2+2`):\n",
    "\n",
    "<br><center> <b>Arithmetic Operators<b> <center>\n",
    "<br>\n",
    "\n",
    "| Symbol | Task Performed | Description| Example<br> (a = 10 & b = 20) |\n",
    "|:----:|:---:|:---:|:---:| \n",
    "| +  | Addition | Adds values on either side of the operator. | a + b = 30\n",
    "| -  | Subtraction | Subtracts right hand operand from left hand operand. | a – b = -10\n",
    "| /  | division | Divides left hand operand by right hand operand | b / a = 2\n",
    "| %  | mod | Divides left hand operand by right hand operand and returns remainder | b % a = 0\n",
    "| *  | multiplication | Multiplies values on either side of the operator | a * b = 200\n",
    "| //  | floor division | he division of operands where the result is the quotient in<br> which the digits after the decimal point are removed. | b // a = 2\n",
    "| **  | to the power of | Performs exponential (power) calculation on operators | a**b =$10^{20}$"
   ]
  },
  {
   "cell_type": "code",
   "execution_count": 5,
   "metadata": {},
   "outputs": [],
   "source": [
    "# 2 + 10 * 2 sdkfhasdkjfsadf"
   ]
  },
  {
   "cell_type": "code",
   "execution_count": null,
   "metadata": {
    "id": "1idJRS8cCPsx"
   },
   "outputs": [],
   "source": [
    "# 2+10*2"
   ]
  },
  {
   "cell_type": "markdown",
   "metadata": {
    "id": "DtpV_IrhF1ig"
   },
   "source": [
    "Every code line in Python is interpreted as a `command`, unless it starts\n",
    "with the hash/pound sign, in which case it is considered to be a `comment`:\n",
    "\n",
    "```\n",
    "# the line below will be executed\n",
    "1+1\n",
    "\n",
    "# the line below will not be executed\n",
    "# 1+2\n",
    "```"
   ]
  },
  {
   "cell_type": "code",
   "execution_count": 7,
   "metadata": {
    "colab": {
     "base_uri": "https://localhost:8080/"
    },
    "executionInfo": {
     "elapsed": 1608,
     "status": "ok",
     "timestamp": 1635413501283,
     "user": {
      "displayName": "Saeed Saffari",
      "photoUrl": "https://lh3.googleusercontent.com/a-/AOh14Ggy3xY3nWqLhkTbpACPCI3HieZ0mqe6UFpCaLNbkw=s64",
      "userId": "13025103434633180107"
     },
     "user_tz": -210
    },
    "id": "plHVzRroPXcQ",
    "outputId": "d21cff8a-913f-4db5-c427-0c55325b3503"
   },
   "outputs": [
    {
     "data": {
      "text/plain": [
       "6"
      ]
     },
     "execution_count": 7,
     "metadata": {},
     "output_type": "execute_result"
    }
   ],
   "source": [
    "2 + 4"
   ]
  },
  {
   "cell_type": "code",
   "execution_count": 8,
   "metadata": {},
   "outputs": [
    {
     "data": {
      "text/plain": [
       "2"
      ]
     },
     "execution_count": 8,
     "metadata": {},
     "output_type": "execute_result"
    }
   ],
   "source": [
    "6 - 4"
   ]
  },
  {
   "cell_type": "code",
   "execution_count": 10,
   "metadata": {},
   "outputs": [
    {
     "data": {
      "text/plain": [
       "15"
      ]
     },
     "execution_count": 10,
     "metadata": {},
     "output_type": "execute_result"
    }
   ],
   "source": [
    "5 * 3"
   ]
  },
  {
   "cell_type": "code",
   "execution_count": 12,
   "metadata": {},
   "outputs": [
    {
     "data": {
      "text/plain": [
       "1.25"
      ]
     },
     "execution_count": 12,
     "metadata": {},
     "output_type": "execute_result"
    }
   ],
   "source": [
    "5 / 4"
   ]
  },
  {
   "cell_type": "code",
   "execution_count": 16,
   "metadata": {},
   "outputs": [
    {
     "data": {
      "text/plain": [
       "2"
      ]
     },
     "execution_count": 16,
     "metadata": {},
     "output_type": "execute_result"
    }
   ],
   "source": [
    "18 % 4"
   ]
  },
  {
   "cell_type": "code",
   "execution_count": 17,
   "metadata": {},
   "outputs": [
    {
     "data": {
      "text/plain": [
       "4"
      ]
     },
     "execution_count": 17,
     "metadata": {},
     "output_type": "execute_result"
    }
   ],
   "source": [
    "18 // 4"
   ]
  },
  {
   "cell_type": "code",
   "execution_count": 18,
   "metadata": {},
   "outputs": [
    {
     "data": {
      "text/plain": [
       "243"
      ]
     },
     "execution_count": 18,
     "metadata": {},
     "output_type": "execute_result"
    }
   ],
   "source": [
    "3 ** 5"
   ]
  },
  {
   "cell_type": "code",
   "execution_count": 19,
   "metadata": {},
   "outputs": [
    {
     "data": {
      "text/plain": [
       "-2"
      ]
     },
     "execution_count": 19,
     "metadata": {},
     "output_type": "execute_result"
    }
   ],
   "source": [
    "5 + (4 - 3 * 2)**3 + 1"
   ]
  },
  {
   "cell_type": "markdown",
   "metadata": {
    "id": "64IpvK-YPsF5"
   },
   "source": [
    "As with many programming languages, we are defining variables and changing their values all the time in Python.\n",
    "We can create a variable simply by inventing a name and assigning a value to it, like the following."
   ]
  },
  {
   "cell_type": "code",
   "execution_count": 20,
   "metadata": {
    "id": "sJ4h3HK-Psv9"
   },
   "outputs": [],
   "source": [
    "a = 1"
   ]
  },
  {
   "cell_type": "code",
   "execution_count": 21,
   "metadata": {},
   "outputs": [
    {
     "data": {
      "text/plain": [
       "1"
      ]
     },
     "execution_count": 21,
     "metadata": {},
     "output_type": "execute_result"
    }
   ],
   "source": [
    "a"
   ]
  },
  {
   "cell_type": "markdown",
   "metadata": {
    "id": "ONvfsEFhGVtn"
   },
   "source": [
    "To store the results of a calculation in a `variable` we can use `=` sign.\n",
    "\n",
    "```python\n",
    "sample_number = 2 + 3\n",
    "```\n",
    "\n",
    "When working inside the notebooks, we can see the result of the last executed command\n",
    "or a `variable`. For example, what do you see when you type the code below in a blank cell?\n",
    "\n",
    "```\n",
    "sample_number\n",
    "```"
   ]
  },
  {
   "cell_type": "code",
   "execution_count": 22,
   "metadata": {
    "colab": {
     "base_uri": "https://localhost:8080/"
    },
    "executionInfo": {
     "elapsed": 6,
     "status": "ok",
     "timestamp": 1635411147193,
     "user": {
      "displayName": "Saeed Saffari",
      "photoUrl": "https://lh3.googleusercontent.com/a-/AOh14Ggy3xY3nWqLhkTbpACPCI3HieZ0mqe6UFpCaLNbkw=s64",
      "userId": "13025103434633180107"
     },
     "user_tz": -210
    },
    "id": "x20lReDYFyiv",
    "outputId": "3870c884-ed72-4d3c-bb9c-ed59f0ebc690"
   },
   "outputs": [],
   "source": [
    "# type here\n",
    "sample_number = 2 + 3"
   ]
  },
  {
   "cell_type": "code",
   "execution_count": 23,
   "metadata": {
    "colab": {
     "background_save": true
    },
    "id": "KOrEHTSPQHCo"
   },
   "outputs": [
    {
     "data": {
      "text/plain": [
       "5"
      ]
     },
     "execution_count": 23,
     "metadata": {},
     "output_type": "execute_result"
    }
   ],
   "source": [
    "sample_number"
   ]
  },
  {
   "cell_type": "code",
   "execution_count": 24,
   "metadata": {},
   "outputs": [],
   "source": [
    "b = 5 + (4 - 3 * 2)**3 + 1"
   ]
  },
  {
   "cell_type": "code",
   "execution_count": 25,
   "metadata": {},
   "outputs": [
    {
     "data": {
      "text/plain": [
       "-2"
      ]
     },
     "execution_count": 25,
     "metadata": {},
     "output_type": "execute_result"
    }
   ],
   "source": [
    "b"
   ]
  },
  {
   "cell_type": "code",
   "execution_count": 27,
   "metadata": {
    "colab": {
     "base_uri": "https://localhost:8080/"
    },
    "executionInfo": {
     "elapsed": 561,
     "status": "ok",
     "timestamp": 1635411160435,
     "user": {
      "displayName": "Saeed Saffari",
      "photoUrl": "https://lh3.googleusercontent.com/a-/AOh14Ggy3xY3nWqLhkTbpACPCI3HieZ0mqe6UFpCaLNbkw=s64",
      "userId": "13025103434633180107"
     },
     "user_tz": -210
    },
    "id": "b9oWzedVFynX",
    "outputId": "a6a01aab-e933-433f-e94a-9b958dc32294"
   },
   "outputs": [
    {
     "data": {
      "text/plain": [
       "5"
      ]
     },
     "execution_count": 27,
     "metadata": {},
     "output_type": "execute_result"
    }
   ],
   "source": [
    "# note that only the last command/variable is displayed\n",
    "# for example of the following two commands only the last one will be shown\n",
    "2+2\n",
    "2+4\n",
    "2+3"
   ]
  },
  {
   "cell_type": "code",
   "execution_count": 28,
   "metadata": {},
   "outputs": [
    {
     "data": {
      "text/plain": [
       "-2"
      ]
     },
     "execution_count": 28,
     "metadata": {},
     "output_type": "execute_result"
    }
   ],
   "source": [
    "b"
   ]
  },
  {
   "cell_type": "code",
   "execution_count": 29,
   "metadata": {},
   "outputs": [],
   "source": [
    "b = 10"
   ]
  },
  {
   "cell_type": "code",
   "execution_count": 30,
   "metadata": {},
   "outputs": [
    {
     "data": {
      "text/plain": [
       "10"
      ]
     },
     "execution_count": 30,
     "metadata": {},
     "output_type": "execute_result"
    }
   ],
   "source": [
    "b"
   ]
  },
  {
   "cell_type": "code",
   "execution_count": 31,
   "metadata": {},
   "outputs": [
    {
     "data": {
      "text/plain": [
       "12"
      ]
     },
     "execution_count": 31,
     "metadata": {},
     "output_type": "execute_result"
    }
   ],
   "source": [
    "b = 10\n",
    "b = 10 - 8\n",
    "b = b + 10\n",
    "b"
   ]
  },
  {
   "cell_type": "markdown",
   "metadata": {
    "id": "39ZG4dyEGhqb"
   },
   "source": [
    "To see the contents of the variable we can use the `print` function:\n",
    "\n",
    "```python\n",
    "print(sample_number)\n",
    "```\n",
    "\n",
    "Check that this works in the cell below:"
   ]
  },
  {
   "cell_type": "code",
   "execution_count": 32,
   "metadata": {
    "colab": {
     "base_uri": "https://localhost:8080/"
    },
    "executionInfo": {
     "elapsed": 645,
     "status": "ok",
     "timestamp": 1635411192850,
     "user": {
      "displayName": "Saeed Saffari",
      "photoUrl": "https://lh3.googleusercontent.com/a-/AOh14Ggy3xY3nWqLhkTbpACPCI3HieZ0mqe6UFpCaLNbkw=s64",
      "userId": "13025103434633180107"
     },
     "user_tz": -210
    },
    "id": "bptcm1F5Gkap",
    "outputId": "fbf6efe5-7c11-486a-b013-11798a262d5e"
   },
   "outputs": [
    {
     "name": "stdout",
     "output_type": "stream",
     "text": [
      "5\n"
     ]
    }
   ],
   "source": [
    "# type here\n",
    "print(sample_number)"
   ]
  },
  {
   "cell_type": "code",
   "execution_count": 33,
   "metadata": {},
   "outputs": [
    {
     "name": "stdout",
     "output_type": "stream",
     "text": [
      "12\n"
     ]
    }
   ],
   "source": [
    "print(b)"
   ]
  },
  {
   "cell_type": "code",
   "execution_count": 34,
   "metadata": {},
   "outputs": [
    {
     "data": {
      "text/plain": [
       "12"
      ]
     },
     "execution_count": 34,
     "metadata": {},
     "output_type": "execute_result"
    }
   ],
   "source": [
    "b"
   ]
  },
  {
   "cell_type": "markdown",
   "metadata": {
    "id": "1On-2Y4eGnWc"
   },
   "source": [
    "Later in the code we can re-use this variable, check what is the output of this command:\n",
    "\n",
    "```python\n",
    "sample_number + 1\n",
    "```"
   ]
  },
  {
   "cell_type": "code",
   "execution_count": 38,
   "metadata": {},
   "outputs": [
    {
     "data": {
      "text/plain": [
       "25"
      ]
     },
     "execution_count": 38,
     "metadata": {},
     "output_type": "execute_result"
    }
   ],
   "source": [
    "b = b + 10\n",
    "b"
   ]
  },
  {
   "cell_type": "code",
   "execution_count": 40,
   "metadata": {
    "colab": {
     "base_uri": "https://localhost:8080/"
    },
    "executionInfo": {
     "elapsed": 490,
     "status": "ok",
     "timestamp": 1635411212672,
     "user": {
      "displayName": "Saeed Saffari",
      "photoUrl": "https://lh3.googleusercontent.com/a-/AOh14Ggy3xY3nWqLhkTbpACPCI3HieZ0mqe6UFpCaLNbkw=s64",
      "userId": "13025103434633180107"
     },
     "user_tz": -210
    },
    "id": "87RgmAJZGo5O",
    "outputId": "0d9e74f3-ed82-4e24-c86a-6ca94a88f8a5"
   },
   "outputs": [
    {
     "data": {
      "text/plain": [
       "6"
      ]
     },
     "execution_count": 40,
     "metadata": {},
     "output_type": "execute_result"
    }
   ],
   "source": [
    "# uncomment the line below\n",
    "sample_number + 1"
   ]
  },
  {
   "cell_type": "code",
   "execution_count": 41,
   "metadata": {},
   "outputs": [
    {
     "data": {
      "text/plain": [
       "7"
      ]
     },
     "execution_count": 41,
     "metadata": {},
     "output_type": "execute_result"
    }
   ],
   "source": [
    "sample_number = sample_number + 2\n",
    "sample_number"
   ]
  },
  {
   "cell_type": "markdown",
   "metadata": {
    "id": "i1fYjbxnReKu"
   },
   "source": [
    "## 3.2 Relational Operators"
   ]
  },
  {
   "cell_type": "markdown",
   "metadata": {
    "id": "Jb_nJrVQRsmm"
   },
   "source": [
    "Relational operators are used for comparing the values. It either returns **True** or **False** according to the condition. These operators are also known as Comparison Operators.\n",
    "\n",
    "| Symbol | Task Performed | Description|\n",
    "|:----:  |:---:|:---:| \n",
    "|=\t     |Assignment| Assigns values from right side operands to left side operand\n",
    "|==      |True, if it is equal| If the values of two operands are equal, then the condition becomes true.|\n",
    "|!=      |True, if not equal to| If values of two operands are not equal, then condition becomes true.|\n",
    "|<\t     |less than| If the value of left operand is less than the value of right operand,<br> then condition becomes true.\n",
    "|>\t     |greater than| If the value of left operand is greater than the value of right operand, <br>then condition becomes true.\n",
    "|<=      |less than or equal to| If the value of left operand is less than or equal to the value of right operand,<br> then condition becomes true.\n",
    "|>=      |greater than or equal to|If the value of left operand is greater than or equal to the value of right operand, <br>then condition becomes true."
   ]
  },
  {
   "cell_type": "code",
   "execution_count": 42,
   "metadata": {},
   "outputs": [],
   "source": [
    "x = 2\n",
    "y = 6"
   ]
  },
  {
   "cell_type": "code",
   "execution_count": 45,
   "metadata": {},
   "outputs": [
    {
     "name": "stdout",
     "output_type": "stream",
     "text": [
      "False\n",
      "True\n",
      "True\n"
     ]
    }
   ],
   "source": [
    "print(x == y)\n",
    "print(x != y)\n",
    "print(x == 2)"
   ]
  },
  {
   "cell_type": "code",
   "execution_count": 48,
   "metadata": {},
   "outputs": [
    {
     "name": "stdout",
     "output_type": "stream",
     "text": [
      "False\n",
      "False\n",
      "True\n"
     ]
    }
   ],
   "source": [
    "print(x > y)\n",
    "print(x > 2)\n",
    "print(x >= 2)"
   ]
  },
  {
   "cell_type": "code",
   "execution_count": 51,
   "metadata": {},
   "outputs": [
    {
     "data": {
      "text/plain": [
       "False"
      ]
     },
     "execution_count": 51,
     "metadata": {},
     "output_type": "execute_result"
    }
   ],
   "source": [
    "x > 1 and y < 1"
   ]
  },
  {
   "cell_type": "code",
   "execution_count": 50,
   "metadata": {},
   "outputs": [
    {
     "data": {
      "text/plain": [
       "True"
      ]
     },
     "execution_count": 50,
     "metadata": {},
     "output_type": "execute_result"
    }
   ],
   "source": [
    "x >1 or y < 1"
   ]
  },
  {
   "cell_type": "code",
   "execution_count": 52,
   "metadata": {},
   "outputs": [
    {
     "data": {
      "text/plain": [
       "True"
      ]
     },
     "execution_count": 52,
     "metadata": {},
     "output_type": "execute_result"
    }
   ],
   "source": [
    "1 < x < 3"
   ]
  },
  {
   "cell_type": "markdown",
   "metadata": {
    "id": "IArW0LXROWSK"
   },
   "source": [
    "## 3.3 Type"
   ]
  },
  {
   "cell_type": "markdown",
   "metadata": {
    "id": "_keISQFd91am"
   },
   "source": [
    "Now we have a variable whose name is `a` and its value is `1`.\n",
    "This variable has a _type_, which is the kind of value it contains.\n",
    "In particular, `1` is an integer, whose type is represented in Python with the keyword `int`.\n",
    "Understanding that variables can be of different types is important, because the type defines what we can do with that variable.\n",
    "We can ask Python to tell us the type of a variable by using the `type()` function."
   ]
  },
  {
   "cell_type": "code",
   "execution_count": null,
   "metadata": {
    "id": "IbyIXN2391am",
    "outputId": "e0e76cfa-d792-4c23-8013-d881358bb816"
   },
   "outputs": [],
   "source": []
  },
  {
   "cell_type": "markdown",
   "metadata": {
    "id": "ephSwyEqDZh-"
   },
   "source": [
    "Data types are the types of variables we can create.\n",
    "Python defines a few basic ones and packages (see below) provide new data types.\n",
    "This programming language features _dynamic typing_, which means that we do not have to define what a variable can be.\n",
    "Instead, Python infers the type of a variable when we create it.\n",
    "Examples of basic data types are strings (`str`), lists (`list`), integer numbers (`int`).\n",
    "<br><br>\n",
    "\n",
    "| Types | Example |\n",
    "| :--: | :--: |\n",
    "| string | \"Hello\" ,  'World' |\n",
    "| integer | 1 , 2 , 3 |\n",
    "| float | 1.2 , 4.6 , 112.6 |\n",
    "| boolian | True , Flase |\n",
    "|list | [1, 2, 3, 'python', 9, 7] |\n",
    "| dictionary | {'Python': 18 , \"Econ\": 20}\n"
   ]
  },
  {
   "cell_type": "markdown",
   "metadata": {
    "id": "_rGeDxgG91an"
   },
   "source": [
    "### Text (`str`)"
   ]
  },
  {
   "cell_type": "markdown",
   "metadata": {
    "id": "5Jln4ai_91ao"
   },
   "source": [
    "A basic object in Python is text.\n",
    "This is formally represented with a `str` object.\n",
    "Strings are denoted either with single or double quotes, and the choice between them is a matter of taste."
   ]
  },
  {
   "cell_type": "code",
   "execution_count": 54,
   "metadata": {},
   "outputs": [
    {
     "name": "stdout",
     "output_type": "stream",
     "text": [
      "Hello world!\n"
     ]
    }
   ],
   "source": [
    "print(\"Hello world!\")"
   ]
  },
  {
   "cell_type": "code",
   "execution_count": 55,
   "metadata": {},
   "outputs": [
    {
     "name": "stdout",
     "output_type": "stream",
     "text": [
      "python course\n"
     ]
    }
   ],
   "source": [
    "print('python course')"
   ]
  },
  {
   "cell_type": "markdown",
   "metadata": {
    "id": "c59jG2UR91ap"
   },
   "source": [
    "There must always be consistency between opening a closing quotes.\n",
    "This means that single quotes can only close single quotes and double quotes can only close double quotes."
   ]
  },
  {
   "cell_type": "code",
   "execution_count": 56,
   "metadata": {},
   "outputs": [
    {
     "ename": "SyntaxError",
     "evalue": "EOL while scanning string literal (<ipython-input-56-e960aba1c7d9>, line 1)",
     "output_type": "error",
     "traceback": [
      "\u001b[0;36m  File \u001b[0;32m\"<ipython-input-56-e960aba1c7d9>\"\u001b[0;36m, line \u001b[0;32m1\u001b[0m\n\u001b[0;31m    \"weird striing..?'\u001b[0m\n\u001b[0m                      ^\u001b[0m\n\u001b[0;31mSyntaxError\u001b[0m\u001b[0;31m:\u001b[0m EOL while scanning string literal\n"
     ]
    }
   ],
   "source": [
    "\"weird striing..?'"
   ]
  },
  {
   "cell_type": "markdown",
   "metadata": {
    "id": "D_h5K5h3MPQ0"
   },
   "source": [
    "As mentioned, Python variables can also contain `string` data:\n",
    "\n",
    "```python\n",
    "sample_string = \"abc\"\n",
    "```"
   ]
  },
  {
   "cell_type": "code",
   "execution_count": 59,
   "metadata": {
    "colab": {
     "base_uri": "https://localhost:8080/"
    },
    "executionInfo": {
     "elapsed": 998,
     "status": "ok",
     "timestamp": 1635429582855,
     "user": {
      "displayName": "Saeed Saffari",
      "photoUrl": "https://lh3.googleusercontent.com/a-/AOh14Ggy3xY3nWqLhkTbpACPCI3HieZ0mqe6UFpCaLNbkw=s64",
      "userId": "13025103434633180107"
     },
     "user_tz": -210
    },
    "id": "Wp2IXdRbMNx5",
    "outputId": "b0fa7dbd-59b5-4012-eedc-73a3905ddf01"
   },
   "outputs": [
    {
     "name": "stdout",
     "output_type": "stream",
     "text": [
      "abc\n"
     ]
    }
   ],
   "source": [
    "# create a variable `sample_string` and assign it some string of your choice\n",
    "sample_string = \"abc\"\n",
    "print(sample_string)"
   ]
  },
  {
   "cell_type": "markdown",
   "metadata": {
    "id": "3n_4zzELONK2"
   },
   "source": [
    "Python allows performing some operations with string variables using notation similar to\n",
    "arithmetic operators. For example, try this in the cell below. Is this what you would expect?\n",
    "\n",
    "```python\n",
    "sample_string*2\n",
    "```"
   ]
  },
  {
   "cell_type": "code",
   "execution_count": 58,
   "metadata": {
    "colab": {
     "base_uri": "https://localhost:8080/",
     "height": 37
    },
    "executionInfo": {
     "elapsed": 621,
     "status": "ok",
     "timestamp": 1635429981551,
     "user": {
      "displayName": "Saeed Saffari",
      "photoUrl": "https://lh3.googleusercontent.com/a-/AOh14Ggy3xY3nWqLhkTbpACPCI3HieZ0mqe6UFpCaLNbkw=s64",
      "userId": "13025103434633180107"
     },
     "user_tz": -210
    },
    "id": "G9X1y8-COLPe",
    "outputId": "5a66601c-ff23-41e8-d8be-fafa7354c70b"
   },
   "outputs": [
    {
     "data": {
      "text/plain": [
       "'abcabc'"
      ]
     },
     "execution_count": 58,
     "metadata": {},
     "output_type": "execute_result"
    }
   ],
   "source": [
    "# type here\n",
    "sample_string * 2"
   ]
  },
  {
   "cell_type": "markdown",
   "metadata": {
    "id": "a34vqFScOVPg"
   },
   "source": [
    "It does not matter if you put the strings in single or double quotes::\n",
    "\n",
    "```python\n",
    "sample_string = \"abc\" + 'def'\n",
    "```"
   ]
  },
  {
   "cell_type": "code",
   "execution_count": 60,
   "metadata": {
    "colab": {
     "base_uri": "https://localhost:8080/",
     "height": 37
    },
    "executionInfo": {
     "elapsed": 686,
     "status": "ok",
     "timestamp": 1635430008128,
     "user": {
      "displayName": "Saeed Saffari",
      "photoUrl": "https://lh3.googleusercontent.com/a-/AOh14Ggy3xY3nWqLhkTbpACPCI3HieZ0mqe6UFpCaLNbkw=s64",
      "userId": "13025103434633180107"
     },
     "user_tz": -210
    },
    "id": "xzihJb08OOll",
    "outputId": "5507301a-048d-4e8a-e8df-24f1758d424b"
   },
   "outputs": [
    {
     "data": {
      "text/plain": [
       "'abcdef'"
      ]
     },
     "execution_count": 60,
     "metadata": {},
     "output_type": "execute_result"
    }
   ],
   "source": [
    "# uncomment the line below\n",
    "sample_string + 'def'"
   ]
  },
  {
   "cell_type": "markdown",
   "metadata": {
    "id": "nUTLNemQN9lp"
   },
   "source": [
    "### Numbers (`int` and a`float`)"
   ]
  },
  {
   "cell_type": "markdown",
   "metadata": {
    "id": "Yu1fKCzc91aq"
   },
   "source": [
    "We already encountered integer numbers, whose type is `int`.\n",
    "Another numerical type we are going to use very often is `float`.\n",
    "This essentially is a non-integer real number, although the inner workings of [floating-point numbers](https://en.wikipedia.org/wiki/Floating-point_arithmetic) are more complicated.\n",
    "We can initialize a variable to be of type `float` by simply assigning a decimal number to a variable."
   ]
  },
  {
   "cell_type": "code",
   "execution_count": 61,
   "metadata": {},
   "outputs": [
    {
     "data": {
      "text/plain": [
       "float"
      ]
     },
     "execution_count": 61,
     "metadata": {},
     "output_type": "execute_result"
    }
   ],
   "source": [
    "b = 1.5\n",
    "type(b)"
   ]
  },
  {
   "cell_type": "markdown",
   "metadata": {
    "id": "VGpFxWAK91ar"
   },
   "source": [
    "This works even when the digit on the right of the decimal point is non significant.\n",
    "The simple fact that we typed a period in the number tells Python that we want to work with floating point numbers."
   ]
  },
  {
   "cell_type": "code",
   "execution_count": 62,
   "metadata": {},
   "outputs": [
    {
     "data": {
      "text/plain": [
       "float"
      ]
     },
     "execution_count": 62,
     "metadata": {},
     "output_type": "execute_result"
    }
   ],
   "source": [
    "type(1.0)"
   ]
  },
  {
   "cell_type": "markdown",
   "metadata": {
    "id": "ZPvrXftX91as"
   },
   "source": [
    "Both `int` and `float` variables support conventional arithmetic operations, such as addition (`+`), subtraction (`-`), multiplication (`*`), division (`/`) and raise to power (`**`).\n",
    "For example:"
   ]
  },
  {
   "cell_type": "code",
   "execution_count": 64,
   "metadata": {},
   "outputs": [
    {
     "data": {
      "text/plain": [
       "2.5"
      ]
     },
     "execution_count": 64,
     "metadata": {},
     "output_type": "execute_result"
    }
   ],
   "source": [
    "a + b"
   ]
  },
  {
   "cell_type": "code",
   "execution_count": 67,
   "metadata": {},
   "outputs": [
    {
     "data": {
      "text/plain": [
       "0"
      ]
     },
     "execution_count": 67,
     "metadata": {},
     "output_type": "execute_result"
    }
   ],
   "source": [
    "b = 1\n",
    "b - 1"
   ]
  },
  {
   "cell_type": "code",
   "execution_count": 68,
   "metadata": {},
   "outputs": [
    {
     "data": {
      "text/plain": [
       "1"
      ]
     },
     "execution_count": 68,
     "metadata": {},
     "output_type": "execute_result"
    }
   ],
   "source": [
    "b ** 2"
   ]
  },
  {
   "cell_type": "markdown",
   "metadata": {
    "id": "AAj1FklJ91au"
   },
   "source": [
    "Other operations that might be handy are floor division (`//`) and the _mod_ operation (`%`).\n",
    "The former returns the largest integer smaller than the quotient, while the latter returns the remainder of floor division."
   ]
  },
  {
   "cell_type": "code",
   "execution_count": 69,
   "metadata": {},
   "outputs": [
    {
     "data": {
      "text/plain": [
       "0"
      ]
     },
     "execution_count": 69,
     "metadata": {},
     "output_type": "execute_result"
    }
   ],
   "source": [
    "16 % 4"
   ]
  },
  {
   "cell_type": "code",
   "execution_count": 70,
   "metadata": {},
   "outputs": [
    {
     "data": {
      "text/plain": [
       "4"
      ]
     },
     "execution_count": 70,
     "metadata": {},
     "output_type": "execute_result"
    }
   ],
   "source": [
    "16 // 4"
   ]
  },
  {
   "cell_type": "markdown",
   "metadata": {
    "id": "_7VZCV5B91aw"
   },
   "source": [
    "### Iterable objects (`list`, `tuple` and `dict`)"
   ]
  },
  {
   "cell_type": "markdown",
   "metadata": {
    "id": "u1yuBBT391aw"
   },
   "source": [
    "Often we want to collect objects in arrays.\n",
    "The most basic example is a vector, which is an organized array of numbers.\n",
    "Python (mainly) provides three iterable objects."
   ]
  },
  {
   "cell_type": "markdown",
   "metadata": {
    "id": "kb8jX6sQXLng"
   },
   "source": [
    "\n",
    "#### **List**"
   ]
  },
  {
   "cell_type": "markdown",
   "metadata": {
    "id": "uNoJcZZnXNVu"
   },
   "source": [
    "\n",
    "We first look at **lists**.\n",
    "These are arrays of heterogeneous objects.\n",
    "They are created by collecting objects in square brackets.\n",
    "\n",
    "A list of objects is an odered collection of items, for example `['a', 'b', 'c', 'a', 123]`. Since\n",
    "lists are ordered, every item in the list has an associated index that starts with 0. This provides\n",
    "access to specific elements of the list by specifying their index. For example, 'b' in the list above has index `1`.\n",
    "The syntax for accessing a specific element is to provide its index in square brackets, e.g. `sample_list[1]`.\n",
    "\n",
    "There are no restriction on the contents of the list, they can contain repeated values\n",
    "(e.g. 'a' in the list above) or they can contain different data types (e.g. strings and integers in the list above).\n"
   ]
  },
  {
   "cell_type": "code",
   "execution_count": 71,
   "metadata": {},
   "outputs": [
    {
     "data": {
      "text/plain": [
       "['text', 2, 1]"
      ]
     },
     "execution_count": 71,
     "metadata": {},
     "output_type": "execute_result"
    }
   ],
   "source": [
    "z = ['text', 2, b]\n",
    "z"
   ]
  },
  {
   "cell_type": "code",
   "execution_count": 72,
   "metadata": {},
   "outputs": [
    {
     "data": {
      "text/plain": [
       "list"
      ]
     },
     "execution_count": 72,
     "metadata": {},
     "output_type": "execute_result"
    }
   ],
   "source": [
    "type(z)"
   ]
  },
  {
   "cell_type": "markdown",
   "metadata": {
    "id": "Sc55BvIc91ax"
   },
   "source": [
    "Lists can also nest."
   ]
  },
  {
   "cell_type": "code",
   "execution_count": 73,
   "metadata": {
    "id": "iph_9kZL91ay",
    "outputId": "54672844-11ae-4295-ad67-c10fc2e7b138"
   },
   "outputs": [
    {
     "data": {
      "text/plain": [
       "['nesting!', ['text', 2, 1]]"
      ]
     },
     "execution_count": 73,
     "metadata": {},
     "output_type": "execute_result"
    }
   ],
   "source": [
    "['nesting!', z]"
   ]
  },
  {
   "cell_type": "markdown",
   "metadata": {
    "id": "sDqUk5Dg91ay"
   },
   "source": [
    "We can access the contents of any iterable object using square brackets."
   ]
  },
  {
   "cell_type": "code",
   "execution_count": 74,
   "metadata": {
    "id": "M0zr-k_E91az",
    "outputId": "9d8186b7-f629-42ae-b095-bbfb324160d3"
   },
   "outputs": [
    {
     "data": {
      "text/plain": [
       "2"
      ]
     },
     "execution_count": 74,
     "metadata": {},
     "output_type": "execute_result"
    }
   ],
   "source": [
    "z[1]"
   ]
  },
  {
   "cell_type": "markdown",
   "metadata": {
    "id": "vPlS_D1q91a0"
   },
   "source": [
    "Note that Python starts counting from zero.\n",
    "This means that `z[0]` will denote the first element of the list `z`, so that `z[1]` denotes the second element.\n",
    "We can also refer to items at the end of a list, without knowing how many elements it contains."
   ]
  },
  {
   "cell_type": "code",
   "execution_count": 75,
   "metadata": {
    "colab": {
     "base_uri": "https://localhost:8080/"
    },
    "executionInfo": {
     "elapsed": 395,
     "status": "ok",
     "timestamp": 1635514130235,
     "user": {
      "displayName": "Saeed Saffari",
      "photoUrl": "https://lh3.googleusercontent.com/a-/AOh14Ggy3xY3nWqLhkTbpACPCI3HieZ0mqe6UFpCaLNbkw=s64",
      "userId": "13025103434633180107"
     },
     "user_tz": -210
    },
    "id": "H8XzFOYE91a1",
    "outputId": "ebf663a9-0647-4e5b-d96c-67f6f226aaf2"
   },
   "outputs": [
    {
     "data": {
      "text/plain": [
       "1"
      ]
     },
     "execution_count": 75,
     "metadata": {},
     "output_type": "execute_result"
    }
   ],
   "source": [
    "z[-1]"
   ]
  },
  {
   "cell_type": "markdown",
   "metadata": {
    "id": "pXUXMD66WNhd"
   },
   "source": [
    "Try defining the list below and accessing different elements inside the list:\n",
    "\n",
    "```python\n",
    "sample_list = ['a', 'b', 'c', 'a', 123, 0, 'X']\n",
    "```"
   ]
  },
  {
   "cell_type": "code",
   "execution_count": 1,
   "metadata": {
    "colab": {
     "base_uri": "https://localhost:8080/"
    },
    "executionInfo": {
     "elapsed": 482,
     "status": "ok",
     "timestamp": 1635516104450,
     "user": {
      "displayName": "Saeed Saffari",
      "photoUrl": "https://lh3.googleusercontent.com/a-/AOh14Ggy3xY3nWqLhkTbpACPCI3HieZ0mqe6UFpCaLNbkw=s64",
      "userId": "13025103434633180107"
     },
     "user_tz": -210
    },
    "id": "cBLduSw5WEqA",
    "outputId": "fc50b12f-2e69-4b52-e03b-564c6ce432fa"
   },
   "outputs": [
    {
     "data": {
      "text/plain": [
       "['a', 'b', 'c', 'a', 123, 0, 'X']"
      ]
     },
     "execution_count": 1,
     "metadata": {},
     "output_type": "execute_result"
    }
   ],
   "source": [
    "# type here\n",
    "sample_list = ['a', 'b', 'c', 'a', 123, 0, 'X']\n",
    "sample_list"
   ]
  },
  {
   "cell_type": "code",
   "execution_count": 78,
   "metadata": {},
   "outputs": [
    {
     "data": {
      "text/plain": [
       "['a', 'c', 123, 'X']"
      ]
     },
     "execution_count": 78,
     "metadata": {},
     "output_type": "execute_result"
    }
   ],
   "source": [
    "sample_list[::2]"
   ]
  },
  {
   "cell_type": "markdown",
   "metadata": {
    "id": "GkZCP4B2WzVk"
   },
   "source": [
    "Sometimes we want to use sequences inside a list, e.g. all items from start until the third item.\n",
    "For this we can use the slicing notation:\n",
    "```\n",
    "[start:stop:step_size]\n",
    "```\n",
    "\n",
    "If `start` is missing, the assumption is to start from 0, if `stop` is missing the assumption\n",
    "is to run up to and including the last item. If `step_size` is missing then iteration\n",
    "will go over all items between `start` and `stop`. \n",
    "\n",
    "Specifying `step_size` will display every `step_size`'th item, e.g. `[::2]` will display every second\n",
    "item starting from the first item. Note that specifying a negative number will reverse the order in which items in the list are\n",
    "displayed. Try this:\n",
    "\n",
    "```python\n",
    "sample_list[:3:-1]\n",
    "```"
   ]
  },
  {
   "cell_type": "code",
   "execution_count": 84,
   "metadata": {
    "colab": {
     "base_uri": "https://localhost:8080/"
    },
    "executionInfo": {
     "elapsed": 421,
     "status": "ok",
     "timestamp": 1635516141346,
     "user": {
      "displayName": "Saeed Saffari",
      "photoUrl": "https://lh3.googleusercontent.com/a-/AOh14Ggy3xY3nWqLhkTbpACPCI3HieZ0mqe6UFpCaLNbkw=s64",
      "userId": "13025103434633180107"
     },
     "user_tz": -210
    },
    "id": "dlNhGnqYW3yY",
    "outputId": "192ebc73-93fc-4fce-97d4-d9eccd7db413"
   },
   "outputs": [
    {
     "data": {
      "text/plain": [
       "['c', 123, 'X']"
      ]
     },
     "execution_count": 84,
     "metadata": {},
     "output_type": "execute_result"
    }
   ],
   "source": [
    "# type here\n",
    "sample_list[ 2: 7: 2]"
   ]
  },
  {
   "cell_type": "code",
   "execution_count": 85,
   "metadata": {
    "colab": {
     "base_uri": "https://localhost:8080/"
    },
    "executionInfo": {
     "elapsed": 832,
     "status": "ok",
     "timestamp": 1635516144203,
     "user": {
      "displayName": "Saeed Saffari",
      "photoUrl": "https://lh3.googleusercontent.com/a-/AOh14Ggy3xY3nWqLhkTbpACPCI3HieZ0mqe6UFpCaLNbkw=s64",
      "userId": "13025103434633180107"
     },
     "user_tz": -210
    },
    "id": "F9to8VLCW6Id",
    "outputId": "f37dcbb7-bd15-449d-811e-f0fdb687b61a"
   },
   "outputs": [
    {
     "data": {
      "text/plain": [
       "['X', 0, 123, 'a', 'c', 'b', 'a']"
      ]
     },
     "execution_count": 85,
     "metadata": {},
     "output_type": "execute_result"
    }
   ],
   "source": [
    "# type here\n",
    "sample_list[::-1]"
   ]
  },
  {
   "cell_type": "code",
   "execution_count": 8,
   "metadata": {},
   "outputs": [
    {
     "data": {
      "text/plain": [
       "['X', 123, 'c', 'a']"
      ]
     },
     "execution_count": 8,
     "metadata": {},
     "output_type": "execute_result"
    }
   ],
   "source": [
    "sample_list[: : -2]"
   ]
  },
  {
   "cell_type": "markdown",
   "metadata": {
    "id": "DjM1PnOLXBp9"
   },
   "source": [
    "#### **Tuple**"
   ]
  },
  {
   "cell_type": "markdown",
   "metadata": {
    "id": "kSpkpGbT91a1"
   },
   "source": [
    "Another way to collect objects is using a **tuple**.\n",
    "This is similar to a `list` and it is created by using round parentheses."
   ]
  },
  {
   "cell_type": "code",
   "execution_count": 9,
   "metadata": {},
   "outputs": [],
   "source": [
    "a = 2\n",
    "b = 15"
   ]
  },
  {
   "cell_type": "code",
   "execution_count": 12,
   "metadata": {},
   "outputs": [
    {
     "data": {
      "text/plain": [
       "('a', 2, 15)"
      ]
     },
     "execution_count": 12,
     "metadata": {},
     "output_type": "execute_result"
    }
   ],
   "source": [
    "y = ('a', a, b)\n",
    "y"
   ]
  },
  {
   "cell_type": "code",
   "execution_count": 14,
   "metadata": {},
   "outputs": [
    {
     "data": {
      "text/plain": [
       "tuple"
      ]
     },
     "execution_count": 14,
     "metadata": {},
     "output_type": "execute_result"
    }
   ],
   "source": [
    "type(y)"
   ]
  },
  {
   "cell_type": "markdown",
   "metadata": {
    "id": "xdIpyynF91a2"
   },
   "source": [
    "What distinguishes lists from tuples is the ability to replace items without creating the iterable from scratch.\n",
    "We can replace items in a list, but we cannot do so with a tuple."
   ]
  },
  {
   "cell_type": "code",
   "execution_count": 15,
   "metadata": {},
   "outputs": [
    {
     "data": {
      "text/plain": [
       "['text', 2, 15]"
      ]
     },
     "execution_count": 15,
     "metadata": {},
     "output_type": "execute_result"
    }
   ],
   "source": [
    "z = ['text', 2, b]\n",
    "z"
   ]
  },
  {
   "cell_type": "code",
   "execution_count": 16,
   "metadata": {},
   "outputs": [
    {
     "data": {
      "text/plain": [
       "list"
      ]
     },
     "execution_count": 16,
     "metadata": {},
     "output_type": "execute_result"
    }
   ],
   "source": [
    "type(z)"
   ]
  },
  {
   "cell_type": "code",
   "execution_count": 18,
   "metadata": {},
   "outputs": [],
   "source": [
    "z[0] = 'another text'"
   ]
  },
  {
   "cell_type": "code",
   "execution_count": 19,
   "metadata": {},
   "outputs": [
    {
     "data": {
      "text/plain": [
       "['another text', 2, 15]"
      ]
     },
     "execution_count": 19,
     "metadata": {},
     "output_type": "execute_result"
    }
   ],
   "source": [
    "z"
   ]
  },
  {
   "cell_type": "code",
   "execution_count": 20,
   "metadata": {},
   "outputs": [
    {
     "data": {
      "text/plain": [
       "('a', 2, 15)"
      ]
     },
     "execution_count": 20,
     "metadata": {},
     "output_type": "execute_result"
    }
   ],
   "source": [
    "y"
   ]
  },
  {
   "cell_type": "code",
   "execution_count": 22,
   "metadata": {},
   "outputs": [
    {
     "ename": "TypeError",
     "evalue": "'tuple' object does not support item assignment",
     "output_type": "error",
     "traceback": [
      "\u001b[0;31m---------------------------------------------------------------------------\u001b[0m",
      "\u001b[0;31mTypeError\u001b[0m                                 Traceback (most recent call last)",
      "\u001b[0;32m<ipython-input-22-2fcc94ad1473>\u001b[0m in \u001b[0;36m<module>\u001b[0;34m\u001b[0m\n\u001b[0;32m----> 1\u001b[0;31m \u001b[0my\u001b[0m\u001b[0;34m[\u001b[0m\u001b[0;36m0\u001b[0m\u001b[0;34m]\u001b[0m \u001b[0;34m=\u001b[0m \u001b[0;34m'text'\u001b[0m\u001b[0;34m\u001b[0m\u001b[0;34m\u001b[0m\u001b[0m\n\u001b[0m",
      "\u001b[0;31mTypeError\u001b[0m: 'tuple' object does not support item assignment"
     ]
    }
   ],
   "source": [
    "y[0] = 'text'"
   ]
  },
  {
   "cell_type": "markdown",
   "metadata": {
    "id": "sS2SemtMXWnk"
   },
   "source": [
    "#### **Dictionary**"
   ]
  },
  {
   "cell_type": "markdown",
   "metadata": {
    "id": "lsS9aNiJ91a5"
   },
   "source": [
    "Finally, we have **dictionaries**.\n",
    "These are essentially lists, with the difference that each element is assigned to a _key_.\n",
    "We create dictionaries using curly braces.\n",
    "\n",
    "\n",
    "`Dictionary` is a data type that contains a combination of key-value items, for example:\n",
    "\n",
    "```python\n",
    "sample_dictionary = dict(math=19, econ=20, physics=16, geology=14)\n",
    "sample_dictionary_alt = {'math' =19, 'econ'= 20, 'physics'= 16, 'geology'= 14}\n",
    "print(sample_dictionary, sample_dictionary_alt)\n",
    "```\n",
    "\n",
    "Once a dictionary is defined we can access specific values by using relevant key, specifying\n",
    "it in square brackets, for example:\n",
    "\n",
    "```python\n",
    "print(sample_dictionary['econ'])\n",
    "```\n",
    "\n",
    "We can use a similar notation to add new key/value pairs to the dictionary:\n",
    "\n",
    "```python\n",
    "sample_dictionary['python'] = True\n",
    "print(sample_dictionary)\n",
    "```"
   ]
  },
  {
   "cell_type": "code",
   "execution_count": null,
   "metadata": {},
   "outputs": [],
   "source": [
    "# dict = { \"keys\" : values , 'math' : 18  ,  ,  ,  ,  }"
   ]
  },
  {
   "cell_type": "code",
   "execution_count": 23,
   "metadata": {
    "colab": {
     "base_uri": "https://localhost:8080/"
    },
    "executionInfo": {
     "elapsed": 525,
     "status": "ok",
     "timestamp": 1635516606119,
     "user": {
      "displayName": "Saeed Saffari",
      "photoUrl": "https://lh3.googleusercontent.com/a-/AOh14Ggy3xY3nWqLhkTbpACPCI3HieZ0mqe6UFpCaLNbkw=s64",
      "userId": "13025103434633180107"
     },
     "user_tz": -210
    },
    "id": "cz4bmZxRYJZB",
    "outputId": "8a0929bc-a32d-42ff-8919-e1dfac09af3e"
   },
   "outputs": [
    {
     "data": {
      "text/plain": [
       "{'math': 19, 'econ': 20, 'physics': 16, 'geology': 14}"
      ]
     },
     "execution_count": 23,
     "metadata": {},
     "output_type": "execute_result"
    }
   ],
   "source": [
    "# type here\n",
    "sample_dictionary = {'math' : 19, 'econ' : 20, 'physics' : 16, 'geology': 14}\n",
    "sample_dictionary"
   ]
  },
  {
   "cell_type": "code",
   "execution_count": 27,
   "metadata": {},
   "outputs": [
    {
     "data": {
      "text/plain": [
       "20"
      ]
     },
     "execution_count": 27,
     "metadata": {},
     "output_type": "execute_result"
    }
   ],
   "source": [
    "sample_dictionary['math']\n",
    "sample_dictionary['econ']"
   ]
  },
  {
   "cell_type": "code",
   "execution_count": 28,
   "metadata": {},
   "outputs": [],
   "source": [
    "sample_dictionary['physics'] = 18"
   ]
  },
  {
   "cell_type": "code",
   "execution_count": 29,
   "metadata": {},
   "outputs": [
    {
     "data": {
      "text/plain": [
       "{'math': 19, 'econ': 20, 'physics': 18, 'geology': 14}"
      ]
     },
     "execution_count": 29,
     "metadata": {},
     "output_type": "execute_result"
    }
   ],
   "source": [
    "sample_dictionary"
   ]
  },
  {
   "cell_type": "code",
   "execution_count": 31,
   "metadata": {},
   "outputs": [],
   "source": [
    "sample_dictionary['history'] = 19"
   ]
  },
  {
   "cell_type": "code",
   "execution_count": 32,
   "metadata": {},
   "outputs": [
    {
     "data": {
      "text/plain": [
       "{'math': 19,\n",
       " 'econ': 20,\n",
       " 'physics': 18,\n",
       " 'geology': 14,\n",
       " 'absc': 19,\n",
       " 'history': 19}"
      ]
     },
     "execution_count": 32,
     "metadata": {},
     "output_type": "execute_result"
    }
   ],
   "source": [
    "sample_dictionary"
   ]
  },
  {
   "cell_type": "code",
   "execution_count": 33,
   "metadata": {},
   "outputs": [
    {
     "data": {
      "text/plain": [
       "dict"
      ]
     },
     "execution_count": 33,
     "metadata": {},
     "output_type": "execute_result"
    }
   ],
   "source": [
    "type(sample_dictionary)"
   ]
  },
  {
   "cell_type": "markdown",
   "metadata": {
    "id": "td_dZ92B91a6"
   },
   "source": [
    "The advantage of dictionaries is that we can access their elements by specifying the name of the key, rather than using a number to index the position."
   ]
  },
  {
   "cell_type": "code",
   "execution_count": 34,
   "metadata": {},
   "outputs": [
    {
     "data": {
      "text/plain": [
       "19"
      ]
     },
     "execution_count": 34,
     "metadata": {},
     "output_type": "execute_result"
    }
   ],
   "source": [
    "sample_dictionary['history']"
   ]
  },
  {
   "cell_type": "markdown",
   "metadata": {
    "id": "xN-rh1cRQjmj"
   },
   "source": [
    "We can access to values and keys of dictionary with below commands:"
   ]
  },
  {
   "cell_type": "code",
   "execution_count": 35,
   "metadata": {},
   "outputs": [
    {
     "data": {
      "text/plain": [
       "dict_values([19, 20, 18, 14, 19, 19])"
      ]
     },
     "execution_count": 35,
     "metadata": {},
     "output_type": "execute_result"
    }
   ],
   "source": [
    "sample_dictionary.values()"
   ]
  },
  {
   "cell_type": "code",
   "execution_count": 36,
   "metadata": {},
   "outputs": [
    {
     "data": {
      "text/plain": [
       "dict_keys(['math', 'econ', 'physics', 'geology', 'absc', 'history'])"
      ]
     },
     "execution_count": 36,
     "metadata": {},
     "output_type": "execute_result"
    }
   ],
   "source": [
    "sample_dictionary.keys()"
   ]
  }
 ],
 "metadata": {
  "colab": {
   "collapsed_sections": [
    "cC84jca2O03C",
    "x4N6oozLOxqz",
    "6BIXHlcSOl_S",
    "9tFB0-7lOjSs",
    "i1fYjbxnReKu",
    "IArW0LXROWSK",
    "_rGeDxgG91an",
    "nUTLNemQN9lp",
    "_7VZCV5B91aw",
    "kb8jX6sQXLng",
    "DjM1PnOLXBp9",
    "sS2SemtMXWnk",
    "JvCJBaNt91a8",
    "heROdZiSZxpy",
    "2MliZn_kcGmD",
    "eY1WxUwQb9-7",
    "GDfhCMsfc-4n",
    "_dtIDs7chbJC",
    "W4LYHBb1iMst",
    "CQP67TmJ91bA",
    "VrhZyHQX91bG",
    "Yni0Lk7g91bK",
    "VFx_S5Ns91bM",
    "F87Vjc6391bO",
    "uj4O3ZDp91bQ",
    "zmxALEaM91bT",
    "HQJVhv3J91bU"
   ],
   "name": "Intro_to_python with Saeed.ipynb",
   "provenance": [
    {
     "file_id": "https://github.com/AndreaPasqualini/intro_to_python_with_networks/blob/master/class_notebooks/intro_to_python.ipynb",
     "timestamp": 1635409094608
    }
   ]
  },
  "kernelspec": {
   "display_name": "Python 3",
   "language": "python",
   "name": "python3"
  },
  "language_info": {
   "codemirror_mode": {
    "name": "ipython",
    "version": 3
   },
   "file_extension": ".py",
   "mimetype": "text/x-python",
   "name": "python",
   "nbconvert_exporter": "python",
   "pygments_lexer": "ipython3",
   "version": "3.8.8"
  }
 },
 "nbformat": 4,
 "nbformat_minor": 1
}
