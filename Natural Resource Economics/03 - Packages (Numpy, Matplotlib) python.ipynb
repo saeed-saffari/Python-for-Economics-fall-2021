{
 "cells": [
  {
   "cell_type": "markdown",
   "metadata": {
    "id": "7HE4SZgdjX0L"
   },
   "source": [
    "# 5. The Need for Packages"
   ]
  },
  {
   "cell_type": "markdown",
   "metadata": {
    "id": "CJTNxzqP91bF"
   },
   "source": [
    "Modules are sets of functions and classes that are oriented towards a given goal.\n",
    "Say you have a bunch of functions that altogether serve one purpose (e.g., connect to a website and download stuff acccording to some criteria).\n",
    "Then your bunch may be collected into a module.\n",
    "Packages are sets of modules.\n",
    "\n",
    "Here are some packages we, as economists, will encounter most often:\n",
    "\n",
    "- [`numpy`](https://www.numpy.org/) (N-dimensional arrays)\n",
    "- [`scipy`](https://www.scipy.org/) (mathematical and statistical recipes)\n",
    "- [`pandas`](https://pandas.pydata.org/) (dataframes, as in R or Stata)\n",
    "- [`matplotlib`](https://matplotlib.org/) and [`seaborn`](https://seaborn.pydata.org/) (static plotting)\n",
    "- [`beautifulsoup4`](https://www.crummy.com/software/BeautifulSoup/) (HTML web scraping)\n",
    "- [`selenium`](https://docs.seleniumhq.org/) (Chrome-driven web scraping)\n",
    "- [`bokeh`](https://bokeh.pydata.org/) and [`plotly`](https://plot.ly/) (interactive plotting)\n",
    "- [`networkx`](https://networkx.github.io/) (easy representation of networks)\n",
    "\n",
    "How you install these packages in your computer depends on your Operating System.\n",
    "If you have a Windows or macOS machine, then you are most likely using the Anaconda distribution, which bundles most packages and hence they should already be on your computer.\n",
    "If you use a Linux-based Operating System, you may want to check out your package manager for these modules.\n",
    "\n",
    "If your package distribution (e.g., Anaconda, APT) does not give you access to a given module, you can use [`pip`](https://docs.python.org/3/installing/index.html), which is Python's integrated package manager.\n",
    "\n",
    "\n",
    "### How do we use modules/packages?\n",
    "\n",
    "At the very beginning of your `.py` file, you should include `import` statements.\n",
    "These statements instruct the Python interpreter to use definitions that are found in those packages.\n",
    "Note that you can also use shorthands for accessing functions inside modules.\n",
    "\n",
    "In what follows, we see some notable packages and some of their functions.\n",
    "The point here is not to teach everything you need about all the packages.\n",
    "This is just to show minimal working examples, so to get familiar with syntax and some basic functions."
   ]
  },
  {
   "cell_type": "code",
   "execution_count": 2,
   "metadata": {},
   "outputs": [],
   "source": [
    "# pip install ... (numpy, matplotlib, pandas)\n",
    "# conda install ... (numpy, matplotlib, pandas)"
   ]
  },
  {
   "cell_type": "code",
   "execution_count": 1,
   "metadata": {
    "id": "fuG0-cWg91bG"
   },
   "outputs": [],
   "source": [
    "import numpy as np  # importing a package, using shorthand later\n",
    "import matplotlib.pyplot as plt\n",
    "import pandas as pd"
   ]
  },
  {
   "cell_type": "markdown",
   "metadata": {
    "id": "VrhZyHQX91bG"
   },
   "source": [
    "## 5.1 Numpy"
   ]
  },
  {
   "cell_type": "markdown",
   "metadata": {
    "id": "Su6gQqP-91bG"
   },
   "source": [
    "[NumPy](https://www.numpy.org/) is a package for Python.\n",
    "At its core, it defines one thing: N-dimensional arrays.\n",
    "To better understand, vectors and matrices are 1- and 2-dimensional arrays.\n",
    "On top of this, NumPy also provides many basic mathematical functions, such as `log()`, `exp()`, `sin()` and so on, together with common mathematical constant like `e`, `pi`, `inf`, `nan` (more below on this one).\n",
    "The advantage of using NumPy lies in the fact that all operations are optimized to run as fast as possible.\n",
    "\n",
    "The basic data type NumPy provides is the [`ndarray`](https://docs.scipy.org/doc/numpy/reference/arrays.ndarray.html).\n",
    "This has several attributes and methods that are useful.\n",
    "Examples of attributes include: `shape`, `ndim`, and `size`.\n",
    "Some methods are: `reshape`, `transpose` (shorthanded, `T`), `squeeze` and `min`, `mean`, `argmin`.\n",
    "\n",
    "Before we dive in some examples, it is useful to clarify something about dimensions.\n",
    "We typically think of matrices as \"rectangles\" with two _axes_: rows and columns.\n",
    "When it comes to vectors, we are normally careful specifying whether it is a row vector or a column vector.\n",
    "However, in some instances it is not necessary to specify the orientation of a vector (think of the inner product, when we denote it with $\\langle x, y \\rangle$).\n",
    "In NumPy, we can have three distinct ways to write a vector:\n",
    "- one-dimensional vectors, with _no_ orientation;\n",
    "- two-dimensional row vectors, where the first dimension has size 1; and\n",
    "- two-dimensional column vectors, where the second dimension has size 1."
   ]
  },
  {
   "cell_type": "markdown",
   "metadata": {
    "id": "HZgPOiWJ518k"
   },
   "source": [
    "### Differences between lists and NumPy Arrays\n",
    "* An array's size is immutable.  You cannot append, insert or remove elements, like you can with a list.\n",
    "* All of an array's elements must be of the same [data type](https://docs.scipy.org/doc/numpy-1.14.0/user/basics.types.html).\n",
    "* A NumPy array behaves in a Pythonic fashion.  You can `len(my_array)` just like you would assume."
   ]
  },
  {
   "cell_type": "code",
   "execution_count": 14,
   "metadata": {
    "id": "4kwhmUsV54Gd"
   },
   "outputs": [],
   "source": [
    "sample_list = [4.0, 3.286, 3.5]"
   ]
  },
  {
   "cell_type": "code",
   "execution_count": 11,
   "metadata": {
    "id": "cqIXEVTi6CWq"
   },
   "outputs": [],
   "source": [
    "# Can have elements appended to it\n",
    "sample_list.append(4.0)\n",
    "# Can have multiple datatypes in it.\n",
    "sample_list.insert(1,'Python')\n",
    "# Can have items removed\n",
    "sample = sample_list.pop(1)"
   ]
  },
  {
   "cell_type": "code",
   "execution_count": 15,
   "metadata": {
    "id": "E_Qy_FGKYnev"
   },
   "outputs": [
    {
     "name": "stdout",
     "output_type": "stream",
     "text": [
      "[4.0, 3.286, 3.5]\n"
     ]
    }
   ],
   "source": [
    "print(sample_list)"
   ]
  },
  {
   "cell_type": "code",
   "execution_count": 16,
   "metadata": {},
   "outputs": [
    {
     "data": {
      "text/plain": [
       "[4.0, 3.286, 3.5, 4.0, 3.286, 3.5]"
      ]
     },
     "execution_count": 16,
     "metadata": {},
     "output_type": "execute_result"
    }
   ],
   "source": [
    "sample_list * 2"
   ]
  },
  {
   "cell_type": "code",
   "execution_count": 17,
   "metadata": {},
   "outputs": [
    {
     "data": {
      "text/plain": [
       "array([4.   , 3.286, 3.5  ])"
      ]
     },
     "execution_count": 17,
     "metadata": {},
     "output_type": "execute_result"
    }
   ],
   "source": [
    "sample_array = np.array(sample_list)\n",
    "sample_array"
   ]
  },
  {
   "cell_type": "code",
   "execution_count": 18,
   "metadata": {},
   "outputs": [
    {
     "data": {
      "text/plain": [
       "array([8.   , 6.572, 7.   ])"
      ]
     },
     "execution_count": 18,
     "metadata": {},
     "output_type": "execute_result"
    }
   ],
   "source": [
    "sample_array * 2"
   ]
  },
  {
   "cell_type": "markdown",
   "metadata": {
    "id": "PaH3oOXo3eV9"
   },
   "source": [
    "### Shape and Dimension\n",
    "\n",
    "Consider the following assignment"
   ]
  },
  {
   "cell_type": "code",
   "execution_count": 19,
   "metadata": {
    "id": "iu1aemIv3bId"
   },
   "outputs": [],
   "source": [
    "z = np.zeros(10)"
   ]
  },
  {
   "cell_type": "code",
   "execution_count": 20,
   "metadata": {},
   "outputs": [
    {
     "data": {
      "text/plain": [
       "array([0., 0., 0., 0., 0., 0., 0., 0., 0., 0.])"
      ]
     },
     "execution_count": 20,
     "metadata": {},
     "output_type": "execute_result"
    }
   ],
   "source": [
    "z"
   ]
  },
  {
   "cell_type": "markdown",
   "metadata": {
    "id": "XmDcU2lT3xuU"
   },
   "source": [
    "Here `z` is a *flat* array with no dimension — neither row nor column vector.\n",
    "\n",
    "The dimension is recorded in the `shape` attribute, which is a tuple"
   ]
  },
  {
   "cell_type": "code",
   "execution_count": 21,
   "metadata": {
    "executionInfo": {
     "elapsed": 14,
     "status": "ok",
     "timestamp": 1639559914987,
     "user": {
      "displayName": "Saeed Saffari",
      "photoUrl": "https://lh3.googleusercontent.com/a-/AOh14Ggy3xY3nWqLhkTbpACPCI3HieZ0mqe6UFpCaLNbkw=s64",
      "userId": "13025103434633180107"
     },
     "user_tz": -210
    },
    "id": "913u1gNK3wl6"
   },
   "outputs": [
    {
     "data": {
      "text/plain": [
       "(10,)"
      ]
     },
     "execution_count": 21,
     "metadata": {},
     "output_type": "execute_result"
    }
   ],
   "source": [
    "z.shape"
   ]
  },
  {
   "cell_type": "markdown",
   "metadata": {
    "id": "aVlxB6lE38Sr"
   },
   "source": [
    "Here the shape tuple has only one element, which is the length of the array (tuples with one element end with a comma).\n",
    "\n",
    "To give it dimension, we can change the `shape` attribute"
   ]
  },
  {
   "cell_type": "code",
   "execution_count": 22,
   "metadata": {
    "id": "Bg0ZTMlsYzjC"
   },
   "outputs": [
    {
     "data": {
      "text/plain": [
       "array([[0.],\n",
       "       [0.],\n",
       "       [0.],\n",
       "       [0.],\n",
       "       [0.],\n",
       "       [0.],\n",
       "       [0.],\n",
       "       [0.],\n",
       "       [0.],\n",
       "       [0.]])"
      ]
     },
     "execution_count": 22,
     "metadata": {},
     "output_type": "execute_result"
    }
   ],
   "source": [
    "z.shape = (10,1)\n",
    "z"
   ]
  },
  {
   "cell_type": "code",
   "execution_count": 23,
   "metadata": {},
   "outputs": [
    {
     "data": {
      "text/plain": [
       "array([[0., 0., 0.],\n",
       "       [0., 0., 0.]])"
      ]
     },
     "execution_count": 23,
     "metadata": {},
     "output_type": "execute_result"
    }
   ],
   "source": [
    "z = np.zeros((2,3))\n",
    "z"
   ]
  },
  {
   "cell_type": "code",
   "execution_count": null,
   "metadata": {},
   "outputs": [],
   "source": []
  },
  {
   "cell_type": "markdown",
   "metadata": {
    "id": "nQbA1X0n4R--"
   },
   "source": [
    "### Creating Arrays\n",
    "\n",
    "As we’ve seen, the `np.zeros` function creates an array of zeros.\n",
    "\n",
    "You can probably guess what `np.ones` creates.\n",
    "\n",
    "#Related is `np.empty`, which creates arrays in memory that can later be populated with data"
   ]
  },
  {
   "cell_type": "code",
   "execution_count": 28,
   "metadata": {
    "id": "gcvrkfd8Y1iA"
   },
   "outputs": [],
   "source": [
    "#y = np.empty(3)\n",
    "#y"
   ]
  },
  {
   "cell_type": "markdown",
   "metadata": {
    "id": "yAKXt2HN4eQ8"
   },
   "source": [
    "The numbers you see here are garbage values.\n",
    "\n",
    "(Python allocates 3 contiguous 64 bit pieces of memory, and the existing contents of those memory slots are interpreted as `float64` values)\n",
    "\n",
    "To set up a grid of evenly spaced numbers use `np.linspace`"
   ]
  },
  {
   "cell_type": "code",
   "execution_count": 32,
   "metadata": {
    "id": "hfMPcWfiY3p4"
   },
   "outputs": [
    {
     "data": {
      "text/plain": [
       "array([ 1.,  4.,  7., 10.])"
      ]
     },
     "execution_count": 32,
     "metadata": {},
     "output_type": "execute_result"
    }
   ],
   "source": [
    "z = np.linspace(1, 10, 4)       # From 1 to 10, with 4 elemtes\n",
    "z"
   ]
  },
  {
   "cell_type": "markdown",
   "metadata": {
    "id": "2xQIgpCb40AV"
   },
   "source": [
    "To create an identity matrix use either `np.identity` or `np.eye`"
   ]
  },
  {
   "cell_type": "code",
   "execution_count": 33,
   "metadata": {
    "id": "Y2_NGNnOY4Yn"
   },
   "outputs": [
    {
     "data": {
      "text/plain": [
       "array([[1., 0., 0.],\n",
       "       [0., 1., 0.],\n",
       "       [0., 0., 1.]])"
      ]
     },
     "execution_count": 33,
     "metadata": {},
     "output_type": "execute_result"
    }
   ],
   "source": [
    "z = np.eye(3)\n",
    "z"
   ]
  },
  {
   "cell_type": "markdown",
   "metadata": {
    "id": "FJnFb5RS491v"
   },
   "source": [
    "In addition, NumPy arrays can be created from Python lists, tuples, etc. using `np.array`"
   ]
  },
  {
   "cell_type": "code",
   "execution_count": 34,
   "metadata": {
    "id": "sUPMBbuXY5fo"
   },
   "outputs": [
    {
     "data": {
      "text/plain": [
       "array([10, 20])"
      ]
     },
     "execution_count": 34,
     "metadata": {},
     "output_type": "execute_result"
    }
   ],
   "source": [
    "z = np.array([10, 20])\n",
    "z"
   ]
  },
  {
   "cell_type": "code",
   "execution_count": 36,
   "metadata": {},
   "outputs": [
    {
     "data": {
      "text/plain": [
       "numpy.ndarray"
      ]
     },
     "execution_count": 36,
     "metadata": {},
     "output_type": "execute_result"
    }
   ],
   "source": [
    "type(z)"
   ]
  },
  {
   "cell_type": "code",
   "execution_count": 37,
   "metadata": {},
   "outputs": [
    {
     "data": {
      "text/plain": [
       "array([[1, 2, 3],\n",
       "       [4, 5, 6],\n",
       "       [7, 8, 9]])"
      ]
     },
     "execution_count": 37,
     "metadata": {},
     "output_type": "execute_result"
    }
   ],
   "source": [
    "z = np.array([[1,2,3],\n",
    "              [4,5,6],\n",
    "              [7,8,9]])\n",
    "z"
   ]
  },
  {
   "cell_type": "markdown",
   "metadata": {
    "id": "5pLtk6xa5nEC"
   },
   "source": [
    "### Array Indexing\n",
    "\n",
    "For a flat array, indexing is the same as Python sequences:"
   ]
  },
  {
   "cell_type": "code",
   "execution_count": 38,
   "metadata": {
    "id": "nluo96nNY8Ik"
   },
   "outputs": [
    {
     "data": {
      "text/plain": [
       "array([1.  , 1.25, 1.5 , 1.75, 2.  ])"
      ]
     },
     "execution_count": 38,
     "metadata": {},
     "output_type": "execute_result"
    }
   ],
   "source": [
    "z = np.linspace(1, 2, 5)\n",
    "z"
   ]
  },
  {
   "cell_type": "code",
   "execution_count": 39,
   "metadata": {},
   "outputs": [
    {
     "data": {
      "text/plain": [
       "1.0"
      ]
     },
     "execution_count": 39,
     "metadata": {},
     "output_type": "execute_result"
    }
   ],
   "source": [
    "z[0]"
   ]
  },
  {
   "cell_type": "code",
   "execution_count": 41,
   "metadata": {},
   "outputs": [
    {
     "data": {
      "text/plain": [
       "array([1.  , 1.25])"
      ]
     },
     "execution_count": 41,
     "metadata": {},
     "output_type": "execute_result"
    }
   ],
   "source": [
    "z[0:2]   # two elements, starting at element 0"
   ]
  },
  {
   "cell_type": "code",
   "execution_count": 42,
   "metadata": {},
   "outputs": [
    {
     "data": {
      "text/plain": [
       "2.0"
      ]
     },
     "execution_count": 42,
     "metadata": {},
     "output_type": "execute_result"
    }
   ],
   "source": [
    "z[-1]"
   ]
  },
  {
   "cell_type": "markdown",
   "metadata": {
    "id": "2ie1Pw7B55_3"
   },
   "source": [
    "For 2D arrays the index syntax is as follows:"
   ]
  },
  {
   "cell_type": "code",
   "execution_count": 43,
   "metadata": {
    "id": "p9pk4ix7Y9iX"
   },
   "outputs": [
    {
     "data": {
      "text/plain": [
       "array([[1, 2, 3],\n",
       "       [4, 5, 6],\n",
       "       [7, 8, 9]])"
      ]
     },
     "execution_count": 43,
     "metadata": {},
     "output_type": "execute_result"
    }
   ],
   "source": [
    "z = np.array([[1,2,3],\n",
    "              [4,5,6],\n",
    "              [7,8,9]])\n",
    "z"
   ]
  },
  {
   "cell_type": "code",
   "execution_count": 45,
   "metadata": {},
   "outputs": [
    {
     "data": {
      "text/plain": [
       "1"
      ]
     },
     "execution_count": 45,
     "metadata": {},
     "output_type": "execute_result"
    }
   ],
   "source": [
    "z[0,0]"
   ]
  },
  {
   "cell_type": "code",
   "execution_count": 46,
   "metadata": {},
   "outputs": [
    {
     "data": {
      "text/plain": [
       "2"
      ]
     },
     "execution_count": 46,
     "metadata": {},
     "output_type": "execute_result"
    }
   ],
   "source": [
    "z[0,1]"
   ]
  },
  {
   "cell_type": "markdown",
   "metadata": {
    "id": "h9DJBfAN6CM6"
   },
   "source": [
    "And so on.\n",
    "\n",
    "Note that indices are still zero-based, to maintain compatibility with Python sequences.\n",
    "\n",
    "Columns and rows can be extracted as follows"
   ]
  },
  {
   "cell_type": "code",
   "execution_count": 47,
   "metadata": {
    "id": "a-XGK51wY-tc"
   },
   "outputs": [
    {
     "data": {
      "text/plain": [
       "array([1, 2, 3])"
      ]
     },
     "execution_count": 47,
     "metadata": {},
     "output_type": "execute_result"
    }
   ],
   "source": [
    "z[0, :]"
   ]
  },
  {
   "cell_type": "code",
   "execution_count": 48,
   "metadata": {},
   "outputs": [
    {
     "data": {
      "text/plain": [
       "array([2, 5, 8])"
      ]
     },
     "execution_count": 48,
     "metadata": {},
     "output_type": "execute_result"
    }
   ],
   "source": [
    "z[:, 1]"
   ]
  },
  {
   "cell_type": "markdown",
   "metadata": {
    "id": "oOUIvI9E78GY"
   },
   "source": [
    "### Array Methods\n",
    "\n",
    "Arrays have useful methods, all of which are carefully optimized"
   ]
  },
  {
   "cell_type": "code",
   "execution_count": 49,
   "metadata": {
    "id": "SiaPiGRRZBmT"
   },
   "outputs": [],
   "source": [
    "a = np.array([4,3,2,1])"
   ]
  },
  {
   "cell_type": "code",
   "execution_count": 50,
   "metadata": {},
   "outputs": [
    {
     "data": {
      "text/plain": [
       "array([1, 2, 3, 4])"
      ]
     },
     "execution_count": 50,
     "metadata": {},
     "output_type": "execute_result"
    }
   ],
   "source": [
    "a.sort()          # Sorts a in place\n",
    "a"
   ]
  },
  {
   "cell_type": "code",
   "execution_count": 51,
   "metadata": {},
   "outputs": [
    {
     "data": {
      "text/plain": [
       "10"
      ]
     },
     "execution_count": 51,
     "metadata": {},
     "output_type": "execute_result"
    }
   ],
   "source": [
    "a.sum()          # sum"
   ]
  },
  {
   "cell_type": "code",
   "execution_count": 52,
   "metadata": {},
   "outputs": [
    {
     "data": {
      "text/plain": [
       "2.5"
      ]
     },
     "execution_count": 52,
     "metadata": {},
     "output_type": "execute_result"
    }
   ],
   "source": [
    "a.mean()         # mean"
   ]
  },
  {
   "cell_type": "code",
   "execution_count": 53,
   "metadata": {},
   "outputs": [
    {
     "data": {
      "text/plain": [
       "3"
      ]
     },
     "execution_count": 53,
     "metadata": {},
     "output_type": "execute_result"
    }
   ],
   "source": [
    "a.argmax()        # Returns the index of the maximal elemts   "
   ]
  },
  {
   "cell_type": "code",
   "execution_count": 54,
   "metadata": {},
   "outputs": [
    {
     "data": {
      "text/plain": [
       "array([ 1,  3,  6, 10])"
      ]
     },
     "execution_count": 54,
     "metadata": {},
     "output_type": "execute_result"
    }
   ],
   "source": [
    "a.cumsum()        # Cumlative sum of elemets of a"
   ]
  },
  {
   "cell_type": "code",
   "execution_count": 55,
   "metadata": {},
   "outputs": [
    {
     "data": {
      "text/plain": [
       "array([ 1,  2,  6, 24])"
      ]
     },
     "execution_count": 55,
     "metadata": {},
     "output_type": "execute_result"
    }
   ],
   "source": [
    "a.cumprod()       # Cumulative product of the elemets of a"
   ]
  },
  {
   "cell_type": "code",
   "execution_count": 57,
   "metadata": {},
   "outputs": [
    {
     "data": {
      "text/plain": [
       "1.25"
      ]
     },
     "execution_count": 57,
     "metadata": {},
     "output_type": "execute_result"
    }
   ],
   "source": [
    "a.var()          # variance"
   ]
  },
  {
   "cell_type": "code",
   "execution_count": 60,
   "metadata": {},
   "outputs": [
    {
     "data": {
      "text/plain": [
       "1.118033988749895"
      ]
     },
     "execution_count": 60,
     "metadata": {},
     "output_type": "execute_result"
    }
   ],
   "source": [
    "a.std()         # standard devation"
   ]
  },
  {
   "cell_type": "code",
   "execution_count": 63,
   "metadata": {},
   "outputs": [
    {
     "name": "stdout",
     "output_type": "stream",
     "text": [
      "[[1 2]\n",
      " [3 4]]\n",
      "[[1 3]\n",
      " [2 4]]\n"
     ]
    }
   ],
   "source": [
    "a = a.reshape((2,2))\n",
    "print(a)\n",
    "print(a.T)       # a.transpose()"
   ]
  },
  {
   "cell_type": "markdown",
   "metadata": {
    "id": "Fho8MXOsPhbg"
   },
   "source": [
    "### Operations on Arrays"
   ]
  },
  {
   "cell_type": "markdown",
   "metadata": {
    "id": "qzvdCZUZPp3F"
   },
   "source": [
    "#### Arithmetic Operations\n",
    "\n",
    "The operators `+`, `-`, `*`, `/` and `**` all act *elementwise* on arrays"
   ]
  },
  {
   "cell_type": "code",
   "execution_count": 64,
   "metadata": {
    "id": "nF4UWtI1OD6H"
   },
   "outputs": [],
   "source": [
    "a = np.array([1, 2, 3, 4])\n",
    "b = np.array([5, 6, 7, 8])"
   ]
  },
  {
   "cell_type": "code",
   "execution_count": 65,
   "metadata": {},
   "outputs": [
    {
     "data": {
      "text/plain": [
       "array([ 6,  8, 10, 12])"
      ]
     },
     "execution_count": 65,
     "metadata": {},
     "output_type": "execute_result"
    }
   ],
   "source": [
    "a + b"
   ]
  },
  {
   "cell_type": "code",
   "execution_count": 66,
   "metadata": {},
   "outputs": [
    {
     "data": {
      "text/plain": [
       "array([ 5, 12, 21, 32])"
      ]
     },
     "execution_count": 66,
     "metadata": {},
     "output_type": "execute_result"
    }
   ],
   "source": [
    "a * b"
   ]
  },
  {
   "cell_type": "markdown",
   "metadata": {
    "id": "91e5GB_AP05p"
   },
   "source": [
    "We can add a scalar to each element as follows"
   ]
  },
  {
   "cell_type": "code",
   "execution_count": 70,
   "metadata": {
    "id": "zlRosBeMZHQd"
   },
   "outputs": [
    {
     "data": {
      "text/plain": [
       "array([11, 12, 13, 14])"
      ]
     },
     "execution_count": 70,
     "metadata": {},
     "output_type": "execute_result"
    }
   ],
   "source": [
    "a + 10"
   ]
  },
  {
   "cell_type": "markdown",
   "metadata": {
    "id": "9qQNcEcbP5PU"
   },
   "source": [
    "Scalar multiplication is similar"
   ]
  },
  {
   "cell_type": "code",
   "execution_count": 69,
   "metadata": {
    "id": "_PWrcNs8ZIAd"
   },
   "outputs": [
    {
     "data": {
      "text/plain": [
       "array([10, 20, 30, 40])"
      ]
     },
     "execution_count": 69,
     "metadata": {},
     "output_type": "execute_result"
    }
   ],
   "source": [
    "a * 10"
   ]
  },
  {
   "cell_type": "markdown",
   "metadata": {
    "id": "iAOumBBaQBlv"
   },
   "source": [
    "The two-dimensional arrays follow the same general rules"
   ]
  },
  {
   "cell_type": "code",
   "execution_count": 71,
   "metadata": {
    "id": "wHTUSkX0QCTn"
   },
   "outputs": [
    {
     "data": {
      "text/plain": [
       "array([[1., 1.],\n",
       "       [1., 1.]])"
      ]
     },
     "execution_count": 71,
     "metadata": {},
     "output_type": "execute_result"
    }
   ],
   "source": [
    "A = np.ones((2, 2))\n",
    "B = np.ones((2, 2))\n",
    "A"
   ]
  },
  {
   "cell_type": "code",
   "execution_count": 72,
   "metadata": {},
   "outputs": [
    {
     "data": {
      "text/plain": [
       "array([[2., 2.],\n",
       "       [2., 2.]])"
      ]
     },
     "execution_count": 72,
     "metadata": {},
     "output_type": "execute_result"
    }
   ],
   "source": [
    "A + B"
   ]
  },
  {
   "cell_type": "code",
   "execution_count": 73,
   "metadata": {},
   "outputs": [
    {
     "data": {
      "text/plain": [
       "array([[1., 1.],\n",
       "       [1., 1.]])"
      ]
     },
     "execution_count": 73,
     "metadata": {},
     "output_type": "execute_result"
    }
   ],
   "source": [
    "A * B"
   ]
  },
  {
   "cell_type": "code",
   "execution_count": 74,
   "metadata": {},
   "outputs": [
    {
     "data": {
      "text/plain": [
       "array([[11., 11.],\n",
       "       [11., 11.]])"
      ]
     },
     "execution_count": 74,
     "metadata": {},
     "output_type": "execute_result"
    }
   ],
   "source": [
    "A + 10"
   ]
  },
  {
   "cell_type": "markdown",
   "metadata": {
    "id": "JNBgEj2VQJRo"
   },
   "source": [
    "In particular, A * B is not the matrix product, it is an element-wise product."
   ]
  },
  {
   "cell_type": "markdown",
   "metadata": {
    "id": "RP9CHYgZQJ9K"
   },
   "source": [
    "#### Matrix Multiplication\n",
    "\n",
    "With Anaconda’s scientific Python package based around Python 3.5 and above,\n",
    "one can use the `@` symbol for matrix multiplication, as follows:"
   ]
  },
  {
   "cell_type": "code",
   "execution_count": 75,
   "metadata": {
    "id": "U-fODSAbQGJb"
   },
   "outputs": [
    {
     "name": "stdout",
     "output_type": "stream",
     "text": [
      "[[1 2 3]\n",
      " [4 5 6]]\n",
      "\n",
      "\n",
      "[[ 7 11 13 17]\n",
      " [ 8 12 16 20]\n",
      " [ 7 14 21 28]]\n"
     ]
    }
   ],
   "source": [
    "A = np.array([[1, 2, 3], [4, 5, 6]])\n",
    "B = np.array([[7, 11, 13, 17], [8, 12, 16, 20], [7, 14, 21, 28]] )\n",
    "print(A)\n",
    "print('\\n')\n",
    "print(B)"
   ]
  },
  {
   "cell_type": "code",
   "execution_count": 76,
   "metadata": {},
   "outputs": [
    {
     "data": {
      "text/plain": [
       "array([[ 44,  77, 108, 141],\n",
       "       [110, 188, 258, 336]])"
      ]
     },
     "execution_count": 76,
     "metadata": {},
     "output_type": "execute_result"
    }
   ],
   "source": [
    "A @ B"
   ]
  },
  {
   "cell_type": "code",
   "execution_count": 77,
   "metadata": {},
   "outputs": [
    {
     "data": {
      "text/plain": [
       "array([[ 44,  77, 108, 141],\n",
       "       [110, 188, 258, 336]])"
      ]
     },
     "execution_count": 77,
     "metadata": {},
     "output_type": "execute_result"
    }
   ],
   "source": [
    "np.matmul(A, B)"
   ]
  },
  {
   "cell_type": "markdown",
   "metadata": {
    "id": "GA-X4ONsSKcD"
   },
   "source": [
    "### Sub-packages\n",
    "\n",
    "NumPy provides some additional functionality related to scientific programming\n",
    "through its sub-packages.\n",
    "\n",
    "We’ve already seen how we can generate random variables using np.random"
   ]
  },
  {
   "cell_type": "code",
   "execution_count": 90,
   "metadata": {
    "id": "_0mqvsqSR4RS"
   },
   "outputs": [],
   "source": [
    "z = np.random.randint(1, 100, 50)    # Genrate 50 random integer numbers between 1, 100\n",
    "y = np.random.normal(0, 1, 10000)    # Generate standard normals"
   ]
  },
  {
   "cell_type": "code",
   "execution_count": 85,
   "metadata": {
    "id": "1bOwKEaA5T7N"
   },
   "outputs": [
    {
     "name": "stdout",
     "output_type": "stream",
     "text": [
      "[79 94 23 24 31 82 16 53 34  4 52 40 73 75 54 32 20 48 31 12 75 63 89 62\n",
      " 17 85 16 74 43 33 43 57 74 91 43 20 54 99 72 39 86 82 40 78 65 94 68 92\n",
      " 10 27]\n"
     ]
    }
   ],
   "source": [
    "print(z)"
   ]
  },
  {
   "cell_type": "code",
   "execution_count": 91,
   "metadata": {
    "id": "rT_cdBpe5UL8"
   },
   "outputs": [
    {
     "name": "stdout",
     "output_type": "stream",
     "text": [
      "[ 0.10563017  0.24707096  0.47663929 ... -0.86960404 -0.59982386\n",
      "  1.40694205]\n"
     ]
    }
   ],
   "source": [
    "print(y)"
   ]
  },
  {
   "cell_type": "code",
   "execution_count": 92,
   "metadata": {},
   "outputs": [
    {
     "data": {
      "text/plain": [
       "0.01711028062470295"
      ]
     },
     "execution_count": 92,
     "metadata": {},
     "output_type": "execute_result"
    }
   ],
   "source": [
    "y.mean()"
   ]
  },
  {
   "cell_type": "code",
   "execution_count": 93,
   "metadata": {},
   "outputs": [
    {
     "data": {
      "text/plain": [
       "0.9996468719133571"
      ]
     },
     "execution_count": 93,
     "metadata": {},
     "output_type": "execute_result"
    }
   ],
   "source": [
    "y.std()"
   ]
  },
  {
   "cell_type": "code",
   "execution_count": 94,
   "metadata": {},
   "outputs": [
    {
     "data": {
      "text/plain": [
       "0.9992938685261598"
      ]
     },
     "execution_count": 94,
     "metadata": {},
     "output_type": "execute_result"
    }
   ],
   "source": [
    "y.var()"
   ]
  },
  {
   "cell_type": "code",
   "execution_count": 95,
   "metadata": {},
   "outputs": [
    {
     "data": {
      "image/png": "[encoded data removed]",
      "text/plain": [
       "<Figure size 432x288 with 1 Axes>"
      ]
     },
     "metadata": {
      "needs_background": "light"
     },
     "output_type": "display_data"
    }
   ],
   "source": [
    "plt.hist(y,100)\n",
    "plt.show()"
   ]
  },
  {
   "cell_type": "markdown",
   "metadata": {
    "id": "F87Vjc6391bO"
   },
   "source": [
    "## 5.2 Matplotlib"
   ]
  },
  {
   "cell_type": "markdown",
   "metadata": {
    "id": "OhMQP3dP91bO"
   },
   "source": [
    "[Matplotlib](https://matplotlib.org/api/index.html) is the go-to library for static plotting.\n",
    "When you just need to get a figure and you do not need to point-and-click on the figure you obtain, this is the most reliable solution.\n",
    "While Matplotlib contains many modules, there is one that we will always use, which is [PyPlot](https://matplotlib.org/api/pyplot_summary.html).\n",
    "This provides all we need to create plots easily.\n",
    "If you are a Matlab user, using this package will be familiar."
   ]
  },
  {
   "cell_type": "markdown",
   "metadata": {
    "id": "Ba0Ws6ih91bP"
   },
   "source": [
    "- <b> You can find a lot of example [HERE](https://matplotlib.org/stable/gallery/index.html)."
   ]
  },
  {
   "cell_type": "markdown",
   "metadata": {
    "id": "S8EZfY98VvZX"
   },
   "source": [
    "### Line Plot"
   ]
  },
  {
   "cell_type": "code",
   "execution_count": 157,
   "metadata": {
    "id": "y0v284gSZUhE"
   },
   "outputs": [
    {
     "data": {
      "image/png": "[encoded data removed]",
      "text/plain": [
       "<Figure size 1080x576 with 1 Axes>"
      ]
     },
     "metadata": {
      "needs_background": "light"
     },
     "output_type": "display_data"
    }
   ],
   "source": [
    "x = np.linspace(-10, 10, 50)\n",
    "y = x ** 2\n",
    "\n",
    "plt.figure(figsize=(15,8))\n",
    "plt.plot(x, y, c='r', ls = '-', lw = 3, marker = 'o', markersize = 13, markeredgecolor = 'b',\n",
    "         markerfacecolor = 'm', label = '$y = x^2$')\n",
    "\n",
    "plt.legend(loc = 'upper center', fontsize = 15)\n",
    "plt.grid(c = 'k', ls = '--', alpha = 0.5)\n",
    "\n",
    "plt.xlabel('X Range', fontsize = 15, fontweight = 2, fontname = 'Times New Roman')\n",
    "plt.ylabel('Y Range', fontsize = 15, fontweight = 2, fontname = 'Times New Roman')\n",
    "plt.title('Function $Y = x^2$\\nin range (-10,10)', fontsize = 18, fontweight = 2,\n",
    "          fontname = 'Times New Roman', c = 'darkblue')\n",
    "\n",
    "plt.axhline(50, c = 'k', ls = '--', lw = 2)\n",
    "plt.axvline(0, c = 'g', ls = '--', lw = 2)\n",
    "\n",
    "#plt.xlim(left = 0, right = 8)\n",
    "#plt.ylim(bottom = 20, top = 80)\n",
    "\n",
    "plt.show()"
   ]
  },
  {
   "cell_type": "code",
   "execution_count": 169,
   "metadata": {},
   "outputs": [
    {
     "data": {
      "image/png": "[encoded data removed]",
      "text/plain": [
       "<Figure size 1080x576 with 1 Axes>"
      ]
     },
     "metadata": {
      "needs_background": "light"
     },
     "output_type": "display_data"
    }
   ],
   "source": [
    "x = np.linspace(-10, 10, 50)\n",
    "y = x ** 2\n",
    "\n",
    "plt.figure(figsize=(15,8))\n",
    "plt.plot(x, 10*y, c = 'r', ls = '-', lw = 3, label = '$y = x^2$')\n",
    "plt.plot(x, x **3, c = 'g', ls = '-', lw = 3, label = '$y = x^3$')\n",
    "plt.plot(x, 200 * np.sin(x), c = 'b', ls = '-', lw = 3, label = '$y = sin(x)$')\n",
    "\n",
    "plt.grid()\n",
    "plt.legend()\n",
    "plt.show()"
   ]
  },
  {
   "cell_type": "code",
   "execution_count": 206,
   "metadata": {},
   "outputs": [
    {
     "data": {
      "image/png": "[encoded data removed]",
      "text/plain": [
       "<Figure size 1080x576 with 4 Axes>"
      ]
     },
     "metadata": {
      "needs_background": "light"
     },
     "output_type": "display_data"
    }
   ],
   "source": [
    "plt.figure(figsize= (15,8))\n",
    "\n",
    "plt.subplot(2,3,1)\n",
    "plt.plot(x, x**2)\n",
    "plt.grid()\n",
    "\n",
    "plt.subplot(2,3,2)\n",
    "plt.plot(x, x ** 3)\n",
    "\n",
    "plt.subplot(2,3,3)\n",
    "plt.plot(x, np.sin(x))\n",
    "plt.grid()\n",
    "\n",
    "plt.subplot(2,3,5)\n",
    "plt.plot(x, np.tan(x))\n",
    "plt.grid()\n",
    "\n",
    "plt.show()"
   ]
  },
  {
   "cell_type": "markdown",
   "metadata": {
    "id": "9p2QEYC-V7dC"
   },
   "source": [
    "### Bar Plot"
   ]
  },
  {
   "cell_type": "code",
   "execution_count": 175,
   "metadata": {
    "id": "_4mbqDWXZZHP"
   },
   "outputs": [
    {
     "data": {
      "image/png": "[encoded data removed]",
      "text/plain": [
       "<Figure size 1080x576 with 1 Axes>"
      ]
     },
     "metadata": {
      "needs_background": "light"
     },
     "output_type": "display_data"
    }
   ],
   "source": [
    "plt.figure(figsize= (15,8))\n",
    "plt.bar([1,3,5,7], [5,11,8,3], label = 'ONE')\n",
    "plt.bar([2,4,6,8], [4,14,12,6], label = 'TWO')\n",
    "plt.legend(fontsize = 14)\n",
    "plt.show()"
   ]
  },
  {
   "cell_type": "markdown",
   "metadata": {
    "id": "3aukEbhZWAlI"
   },
   "source": [
    "### Scatter Plot"
   ]
  },
  {
   "cell_type": "code",
   "execution_count": 189,
   "metadata": {
    "id": "95w0_efwZZ5y"
   },
   "outputs": [
    {
     "data": {
      "image/png": "[encoded data removed]",
      "text/plain": [
       "<Figure size 1080x576 with 2 Axes>"
      ]
     },
     "metadata": {
      "needs_background": "light"
     },
     "output_type": "display_data"
    }
   ],
   "source": [
    "x = np.linspace(0,10, 100)\n",
    "e = np.random.rand(100)* 100\n",
    "y = x + e\n",
    "\n",
    "scale = np.random.rand(100) * 1000\n",
    "color = np.random.random(100)\n",
    "\n",
    "plt.figure(figsize= (15,8))\n",
    "plt.scatter(x, y, s = scale, c = color)\n",
    "\n",
    "plt.colorbar().set_label('\\nColor bar', fontsize = 15)\n",
    "\n",
    "plt.grid()\n",
    "#plt.savefig('scatter.jpg', dpi = 600)\n",
    "plt.show()"
   ]
  },
  {
   "cell_type": "markdown",
   "metadata": {
    "id": "sMzU-R25WLXV"
   },
   "source": [
    "### Histogram Plot"
   ]
  },
  {
   "cell_type": "markdown",
   "metadata": {
    "id": "8hVSNhHlWO_j"
   },
   "source": [
    "$$ f(x) = \\frac{1}{\\sigma \\sqrt{2 \\pi}} e^{-\\frac{1}{2}\\Large(\\frac{x-μ}{σ}\\Large)^{2}} $$"
   ]
  },
  {
   "cell_type": "code",
   "execution_count": 194,
   "metadata": {
    "id": "JwhgXY8JW0mc"
   },
   "outputs": [
    {
     "data": {
      "image/png": "[encoded data removed]",
      "text/plain": [
       "<Figure size 1080x576 with 1 Axes>"
      ]
     },
     "metadata": {
      "needs_background": "light"
     },
     "output_type": "display_data"
    }
   ],
   "source": [
    "data = np.random.normal(0,1, 100000)\n",
    "\n",
    "x = np.linspace(-4,4, 100)\n",
    "y = 1 / np.sqrt(2 * np.pi) * np.exp(-x**2 /2)\n",
    "\n",
    "plt.figure(figsize= (15,8))\n",
    "plt.plot(x, y, lw = 4, c = 'k')\n",
    "plt.hist(data, 100, density=1)\n",
    "plt.show()"
   ]
  },
  {
   "cell_type": "markdown",
   "metadata": {
    "id": "HQJVhv3J91bU"
   },
   "source": [
    "# References\n",
    "\n",
    "- [QuantEcon](https://lectures.quantecon.org/py/)\n",
    "- [Reference guide for Numpy](https://docs.scipy.org/doc/numpy/reference/)\n",
    "- [Reference guide for matplotlib](https://matplotlib.org/stable/index.html)\n",
    "\n"
   ]
  }
 ],
 "metadata": {
  "colab": {
   "collapsed_sections": [
    "HQJVhv3J91bU"
   ],
   "name": "03 - Packages (Numpy, Matplotlib) python with Saeed teach.ipynb",
   "provenance": [
    {
     "file_id": "https://github.com/AndreaPasqualini/intro_to_python_with_networks/blob/master/class_notebooks/intro_to_python.ipynb",
     "timestamp": 1635409094608
    }
   ]
  },
  "kernelspec": {
   "display_name": "Python 3",
   "language": "python",
   "name": "python3"
  },
  "language_info": {
   "codemirror_mode": {
    "name": "ipython",
    "version": 3
   },
   "file_extension": ".py",
   "mimetype": "text/x-python",
   "name": "python",
   "nbconvert_exporter": "python",
   "pygments_lexer": "ipython3",
   "version": "3.8.8"
  }
 },
 "nbformat": 4,
 "nbformat_minor": 1
}
