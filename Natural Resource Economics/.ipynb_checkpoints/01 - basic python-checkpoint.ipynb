{
 "cells": [
  {
   "cell_type": "markdown",
   "metadata": {
    "id": "cC84jca2O03C"
   },
   "source": [
    "# 1. Introduction to Python"
   ]
  },
  {
   "cell_type": "markdown",
   "metadata": {
    "id": "0-1r_Hc091ae"
   },
   "source": [
    "Python is a programming language.\n",
    "It is not a mathematics-oriented language in and of itself.\n",
    "It is a general-purpose language, meaning we can do pretty much what we want with it.\n",
    "\n",
    "[![Python](https://imgs.xkcd.com/comics/python.png)](https://xkcd.com/353/)\n",
    "\n",
    "Here is a (supershort) list of what humanity did with Python:\n",
    "\n",
    "- Dropbox (Source: [Dropbox Blog](https://blogs.dropbox.com/tech/2018/09/how-we-rolled-out-one-of-the-largest-python-3-migrations-ever/))\n",
    "- Image editing ([The GNU Image Manipulation Program](https://www.gimp.org/))\n",
    "- Vector graphics ([Inkscape](https://inkscape.org/))\n",
    "- 3D modeling ([Blender](https://www.blender.org/))\n",
    "- Desktop publishing ([Scribus](https://www.scribus.net/))\n",
    "- Web pages ([Reddit](https://www.reddit.com/), Source: [Reddit Blog](https://redditblog.com/2005/12/05/on-lisp/))\n",
    "\n",
    "Also in economics we have a great sites like [QuantEcon](https://quantecon.org) by **Prof. Sargent** and his team and you can find many economics models on it.\n",
    "\n"
   ]
  },
  {
   "cell_type": "markdown",
   "metadata": {
    "id": "x4N6oozLOxqz"
   },
   "source": [
    "# 2. How to work with the notebooks in colab/binder"
   ]
  },
  {
   "cell_type": "markdown",
   "metadata": {
    "id": "xZUBMdxjFeJT"
   },
   "source": [
    "Notebooks:\n",
    "- notebook as a collection of cells\n",
    "- two main cell types: text (markdown) and code\n",
    "- click on a cell to edit the contents\n",
    "- Shift+Enter to run the code within a code cell or render the text cell\n",
    "- be aware of the execution order\n",
    "- installing necessary modules with pip and conda\n",
    "\n"
   ]
  },
  {
   "cell_type": "markdown",
   "metadata": {
    "id": "6BIXHlcSOl_S"
   },
   "source": [
    "# 3. The Basics"
   ]
  },
  {
   "cell_type": "markdown",
   "metadata": {
    "id": "_VO4R8Gv91aj"
   },
   "source": [
    "Python alone cannot do much.\n",
    "For this reason, we are almost always going to work with a package (see below).\n",
    "However, it is fundamental to understand the basics.\n",
    "This involves familiarizing with the _syntax_ and with the basic _data types_.\n",
    "\n",
    "Syntax is the set of rules that govern writing code.\n",
    "This includes how to write an _assignment_ (providing a variable with a value), how to call functions and how to access items in a iterable object (e.g., lists, arrays).\n",
    "It also includes _code blocks,_ which execute conditionally on a given rule (e.g., `if`, `while`).\n"
   ]
  },
  {
   "cell_type": "code",
   "execution_count": null,
   "metadata": {
    "id": "Qbyzk9zcQxIw"
   },
   "outputs": [],
   "source": []
  },
  {
   "cell_type": "markdown",
   "metadata": {
    "id": "9tFB0-7lOjSs"
   },
   "source": [
    "## 3.1 Arithmetic operations and variables"
   ]
  },
  {
   "cell_type": "markdown",
   "metadata": {
    "id": "v5wykTSl9d3D"
   },
   "source": [
    "Let's start with basic calculations in Python. Entering some arithmetic operation in the code cell below (e.g. `2+2`):\n",
    "\n",
    "<br><center> <b>Arithmetic Operators<b> <center>\n",
    "<br>\n",
    "\n",
    "| Symbol | Task Performed | Description| Example<br> (a = 10 & b = 20) |\n",
    "|:----:|:---:|:---:|:---:| \n",
    "| +  | Addition | Adds values on either side of the operator. | a + b = 30\n",
    "| -  | Subtraction | Subtracts right hand operand from left hand operand. | a – b = -10\n",
    "| /  | division | Divides left hand operand by right hand operand | b / a = 2\n",
    "| %  | mod | Divides left hand operand by right hand operand and returns remainder | b % a = 0\n",
    "| *  | multiplication | Multiplies values on either side of the operator | a * b = 200\n",
    "| //  | floor division | he division of operands where the result is the quotient in<br> which the digits after the decimal point are removed. | b // a = 2\n",
    "| **  | to the power of | Performs exponential (power) calculation on operators | a**b =$10^{20}$"
   ]
  },
  {
   "cell_type": "markdown",
   "metadata": {
    "id": "DtpV_IrhF1ig"
   },
   "source": [
    "Every code line in Python is interpreted as a `command`, unless it starts\n",
    "with the hash/pound sign, in which case it is considered to be a `comment`:\n",
    "\n",
    "```\n",
    "# the line below will be executed\n",
    "1+1\n",
    "\n",
    "# the line below will not be executed\n",
    "# 1+2\n",
    "```"
   ]
  },
  {
   "cell_type": "code",
   "execution_count": null,
   "metadata": {
    "id": "1idJRS8cCPsx"
   },
   "outputs": [],
   "source": [
    "# 2+10*2"
   ]
  },
  {
   "cell_type": "code",
   "execution_count": null,
   "metadata": {
    "id": "Zsh74k6aQ8QQ"
   },
   "outputs": [],
   "source": []
  },
  {
   "cell_type": "markdown",
   "metadata": {
    "id": "64IpvK-YPsF5"
   },
   "source": [
    "As with many programming languages, we are defining variables and changing their values all the time in Python.\n",
    "We can create a variable simply by inventing a name and assigning a value to it, like the following."
   ]
  },
  {
   "cell_type": "markdown",
   "metadata": {
    "id": "ONvfsEFhGVtn"
   },
   "source": [
    "To store the results of a calculation in a `variable` we can use `=` sign.\n",
    "\n",
    "```python\n",
    "sample_number = 2 + 3\n",
    "```\n",
    "\n",
    "When working inside the notebooks, we can see the result of the last executed command\n",
    "or a `variable`. For example, what do you see when you type the code below in a blank cell?\n",
    "\n",
    "```\n",
    "sample_number\n",
    "```"
   ]
  },
  {
   "cell_type": "code",
   "execution_count": null,
   "metadata": {
    "id": "x20lReDYFyiv"
   },
   "outputs": [],
   "source": [
    "# type here\n"
   ]
  },
  {
   "cell_type": "code",
   "execution_count": null,
   "metadata": {
    "id": "5KJDWRsFRFMw"
   },
   "outputs": [],
   "source": []
  },
  {
   "cell_type": "code",
   "execution_count": null,
   "metadata": {
    "colab": {
     "base_uri": "https://localhost:8080/"
    },
    "executionInfo": {
     "elapsed": 561,
     "status": "ok",
     "timestamp": 1635411160435,
     "user": {
      "displayName": "Saeed Saffari",
      "photoUrl": "https://lh3.googleusercontent.com/a-/AOh14Ggy3xY3nWqLhkTbpACPCI3HieZ0mqe6UFpCaLNbkw=s64",
      "userId": "13025103434633180107"
     },
     "user_tz": -210
    },
    "id": "b9oWzedVFynX",
    "outputId": "a6a01aab-e933-433f-e94a-9b958dc32294"
   },
   "outputs": [
    {
     "data": {
      "text/plain": [
       "5"
      ]
     },
     "execution_count": 27,
     "metadata": {},
     "output_type": "execute_result"
    }
   ],
   "source": [
    "# note that only the last command/variable is displayed\n",
    "# for example of the following two commands only the last one will be shown\n",
    "2+2\n",
    "2+4\n",
    "2+3"
   ]
  },
  {
   "cell_type": "code",
   "execution_count": null,
   "metadata": {
    "id": "oghCUTwfRHVt"
   },
   "outputs": [],
   "source": []
  },
  {
   "cell_type": "markdown",
   "metadata": {
    "id": "39ZG4dyEGhqb"
   },
   "source": [
    "To see the contents of the variable we can use the `print` function:\n",
    "\n",
    "```python\n",
    "print(sample_number)\n",
    "```\n",
    "\n",
    "Check that this works in the cell below:"
   ]
  },
  {
   "cell_type": "code",
   "execution_count": null,
   "metadata": {
    "id": "bptcm1F5Gkap"
   },
   "outputs": [],
   "source": [
    "# type here\n"
   ]
  },
  {
   "cell_type": "code",
   "execution_count": null,
   "metadata": {
    "id": "90HOTX10RMsz"
   },
   "outputs": [],
   "source": []
  },
  {
   "cell_type": "markdown",
   "metadata": {
    "id": "1On-2Y4eGnWc"
   },
   "source": [
    "Later in the code we can re-use this variable, check what is the output of this command:\n",
    "\n",
    "```python\n",
    "sample_number + 1\n",
    "```"
   ]
  },
  {
   "cell_type": "code",
   "execution_count": null,
   "metadata": {
    "colab": {
     "base_uri": "https://localhost:8080/"
    },
    "executionInfo": {
     "elapsed": 490,
     "status": "ok",
     "timestamp": 1635411212672,
     "user": {
      "displayName": "Saeed Saffari",
      "photoUrl": "https://lh3.googleusercontent.com/a-/AOh14Ggy3xY3nWqLhkTbpACPCI3HieZ0mqe6UFpCaLNbkw=s64",
      "userId": "13025103434633180107"
     },
     "user_tz": -210
    },
    "id": "87RgmAJZGo5O",
    "outputId": "0d9e74f3-ed82-4e24-c86a-6ca94a88f8a5"
   },
   "outputs": [
    {
     "data": {
      "text/plain": [
       "6"
      ]
     },
     "execution_count": 40,
     "metadata": {},
     "output_type": "execute_result"
    }
   ],
   "source": [
    "# uncomment the line below\n",
    "sample_number + 1"
   ]
  },
  {
   "cell_type": "code",
   "execution_count": null,
   "metadata": {
    "id": "bMCoqL6PRRwv"
   },
   "outputs": [],
   "source": []
  },
  {
   "cell_type": "markdown",
   "metadata": {
    "id": "i1fYjbxnReKu"
   },
   "source": [
    "## 3.2 Relational Operators"
   ]
  },
  {
   "cell_type": "markdown",
   "metadata": {
    "id": "Jb_nJrVQRsmm"
   },
   "source": [
    "Relational operators are used for comparing the values. It either returns **True** or **False** according to the condition. These operators are also known as Comparison Operators.\n",
    "\n",
    "| Symbol | Task Performed | Description|\n",
    "|:----:  |:---:|:---:| \n",
    "|=\t     |Assignment| Assigns values from right side operands to left side operand\n",
    "|==      |True, if it is equal| If the values of two operands are equal, then the condition becomes true.|\n",
    "|!=      |True, if not equal to| If values of two operands are not equal, then condition becomes true.|\n",
    "|<\t     |less than| If the value of left operand is less than the value of right operand,<br> then condition becomes true.\n",
    "|>\t     |greater than| If the value of left operand is greater than the value of right operand, <br>then condition becomes true.\n",
    "|<=      |less than or equal to| If the value of left operand is less than or equal to the value of right operand,<br> then condition becomes true.\n",
    "|>=      |greater than or equal to|If the value of left operand is greater than or equal to the value of right operand, <br>then condition becomes true."
   ]
  },
  {
   "cell_type": "code",
   "execution_count": null,
   "metadata": {
    "id": "yGb9ouULRUSB"
   },
   "outputs": [],
   "source": []
  },
  {
   "cell_type": "markdown",
   "metadata": {
    "id": "IArW0LXROWSK"
   },
   "source": [
    "## 3.3 Type"
   ]
  },
  {
   "cell_type": "markdown",
   "metadata": {
    "id": "_keISQFd91am"
   },
   "source": [
    "Now we have a variable whose name is `a` and its value is `1`.\n",
    "This variable has a _type_, which is the kind of value it contains.\n",
    "In particular, `1` is an integer, whose type is represented in Python with the keyword `int`.\n",
    "Understanding that variables can be of different types is important, because the type defines what we can do with that variable.\n",
    "We can ask Python to tell us the type of a variable by using the `type()` function."
   ]
  },
  {
   "cell_type": "code",
   "execution_count": null,
   "metadata": {
    "id": "IbyIXN2391am"
   },
   "outputs": [],
   "source": []
  },
  {
   "cell_type": "markdown",
   "metadata": {
    "id": "ephSwyEqDZh-"
   },
   "source": [
    "Data types are the types of variables we can create.\n",
    "Python defines a few basic ones and packages (see below) provide new data types.\n",
    "This programming language features _dynamic typing_, which means that we do not have to define what a variable can be.\n",
    "Instead, Python infers the type of a variable when we create it.\n",
    "Examples of basic data types are strings (`str`), lists (`list`), integer numbers (`int`).\n",
    "<br><br>\n",
    "\n",
    "| Types | Example |\n",
    "| :--: | :--: |\n",
    "| string | \"Hello\" ,  'World' |\n",
    "| integer | 1 , 2 , 3 |\n",
    "| float | 1.2 , 4.6 , 112.6 |\n",
    "| boolian | True , Flase |\n",
    "|list | [1, 2, 3, 'python', 9, 7] |\n",
    "| dictionary | {'Python': 18 , \"Econ\": 20}\n"
   ]
  },
  {
   "cell_type": "markdown",
   "metadata": {
    "id": "_rGeDxgG91an"
   },
   "source": [
    "### Text (`str`)"
   ]
  },
  {
   "cell_type": "markdown",
   "metadata": {
    "id": "5Jln4ai_91ao"
   },
   "source": [
    "A basic object in Python is text.\n",
    "This is formally represented with a `str` object.\n",
    "Strings are denoted either with single or double quotes, and the choice between them is a matter of taste."
   ]
  },
  {
   "cell_type": "code",
   "execution_count": null,
   "metadata": {
    "id": "VulbyGgORYb4"
   },
   "outputs": [],
   "source": []
  },
  {
   "cell_type": "code",
   "execution_count": null,
   "metadata": {
    "id": "vIhs7SoSRZQ3"
   },
   "outputs": [],
   "source": []
  },
  {
   "cell_type": "markdown",
   "metadata": {
    "id": "c59jG2UR91ap"
   },
   "source": [
    "There must always be consistency between opening a closing quotes.\n",
    "This means that single quotes can only close single quotes and double quotes can only close double quotes."
   ]
  },
  {
   "cell_type": "code",
   "execution_count": null,
   "metadata": {
    "id": "mUMC1FZvRai4"
   },
   "outputs": [],
   "source": []
  },
  {
   "cell_type": "markdown",
   "metadata": {
    "id": "D_h5K5h3MPQ0"
   },
   "source": [
    "As mentioned, Python variables can also contain `string` data:\n",
    "\n",
    "```python\n",
    "sample_string = \"abc\"\n",
    "```"
   ]
  },
  {
   "cell_type": "code",
   "execution_count": null,
   "metadata": {
    "id": "Wp2IXdRbMNx5"
   },
   "outputs": [],
   "source": [
    "# create a variable `sample_string` and assign it some string of your choice\n"
   ]
  },
  {
   "cell_type": "markdown",
   "metadata": {
    "id": "3n_4zzELONK2"
   },
   "source": [
    "Python allows performing some operations with string variables using notation similar to\n",
    "arithmetic operators. For example, try this in the cell below. Is this what you would expect?\n",
    "\n",
    "```python\n",
    "sample_string*2\n",
    "```"
   ]
  },
  {
   "cell_type": "code",
   "execution_count": null,
   "metadata": {
    "id": "G9X1y8-COLPe"
   },
   "outputs": [],
   "source": [
    "# type here\n"
   ]
  },
  {
   "cell_type": "markdown",
   "metadata": {
    "id": "a34vqFScOVPg"
   },
   "source": [
    "It does not matter if you put the strings in single or double quotes::\n",
    "\n",
    "```python\n",
    "sample_string = \"abc\" + 'def'\n",
    "```"
   ]
  },
  {
   "cell_type": "code",
   "execution_count": null,
   "metadata": {
    "id": "xzihJb08OOll"
   },
   "outputs": [],
   "source": []
  },
  {
   "cell_type": "markdown",
   "metadata": {
    "id": "nUTLNemQN9lp"
   },
   "source": [
    "### Numbers (`int` and a`float`)"
   ]
  },
  {
   "cell_type": "markdown",
   "metadata": {
    "id": "Yu1fKCzc91aq"
   },
   "source": [
    "We already encountered integer numbers, whose type is `int`.\n",
    "Another numerical type we are going to use very often is `float`.\n",
    "This essentially is a non-integer real number, although the inner workings of [floating-point numbers](https://en.wikipedia.org/wiki/Floating-point_arithmetic) are more complicated.\n",
    "We can initialize a variable to be of type `float` by simply assigning a decimal number to a variable."
   ]
  },
  {
   "cell_type": "code",
   "execution_count": null,
   "metadata": {
    "id": "UgJodBB6RlYr"
   },
   "outputs": [],
   "source": []
  },
  {
   "cell_type": "markdown",
   "metadata": {
    "id": "VGpFxWAK91ar"
   },
   "source": [
    "This works even when the digit on the right of the decimal point is non significant.\n",
    "The simple fact that we typed a period in the number tells Python that we want to work with floating point numbers."
   ]
  },
  {
   "cell_type": "code",
   "execution_count": null,
   "metadata": {
    "id": "5iG7cbVoRm1Z"
   },
   "outputs": [],
   "source": []
  },
  {
   "cell_type": "markdown",
   "metadata": {
    "id": "ZPvrXftX91as"
   },
   "source": [
    "Both `int` and `float` variables support conventional arithmetic operations, such as addition (`+`), subtraction (`-`), multiplication (`*`), division (`/`) and raise to power (`**`).\n",
    "For example:"
   ]
  },
  {
   "cell_type": "code",
   "execution_count": null,
   "metadata": {
    "id": "crrNv-IzRqi-"
   },
   "outputs": [],
   "source": []
  },
  {
   "cell_type": "markdown",
   "metadata": {
    "id": "AAj1FklJ91au"
   },
   "source": [
    "Other operations that might be handy are floor division (`//`) and the _mod_ operation (`%`).\n",
    "The former returns the largest integer smaller than the quotient, while the latter returns the remainder of floor division."
   ]
  },
  {
   "cell_type": "code",
   "execution_count": null,
   "metadata": {
    "id": "FXqk78aRRskv"
   },
   "outputs": [],
   "source": []
  },
  {
   "cell_type": "markdown",
   "metadata": {
    "id": "_7VZCV5B91aw"
   },
   "source": [
    "### Iterable objects (`list`, `tuple` and `dict`)"
   ]
  },
  {
   "cell_type": "markdown",
   "metadata": {
    "id": "u1yuBBT391aw"
   },
   "source": [
    "Often we want to collect objects in arrays.\n",
    "The most basic example is a vector, which is an organized array of numbers.\n",
    "Python (mainly) provides three iterable objects."
   ]
  },
  {
   "cell_type": "markdown",
   "metadata": {
    "id": "kb8jX6sQXLng"
   },
   "source": [
    "\n",
    "#### **List**"
   ]
  },
  {
   "cell_type": "markdown",
   "metadata": {
    "id": "uNoJcZZnXNVu"
   },
   "source": [
    "\n",
    "We first look at **lists**.\n",
    "These are arrays of heterogeneous objects.\n",
    "They are created by collecting objects in square brackets.\n",
    "\n",
    "A list of objects is an odered collection of items, for example `['a', 'b', 'c', 'a', 123]`. Since\n",
    "lists are ordered, every item in the list has an associated index that starts with 0. This provides\n",
    "access to specific elements of the list by specifying their index. For example, 'b' in the list above has index `1`.\n",
    "The syntax for accessing a specific element is to provide its index in square brackets, e.g. `sample_list[1]`.\n",
    "\n",
    "There are no restriction on the contents of the list, they can contain repeated values\n",
    "(e.g. 'a' in the list above) or they can contain different data types (e.g. strings and integers in the list above).\n"
   ]
  },
  {
   "cell_type": "code",
   "execution_count": null,
   "metadata": {
    "id": "LyKjO0E9Rv-l"
   },
   "outputs": [],
   "source": []
  },
  {
   "cell_type": "markdown",
   "metadata": {
    "id": "Sc55BvIc91ax"
   },
   "source": [
    "Lists can also nest."
   ]
  },
  {
   "cell_type": "code",
   "execution_count": null,
   "metadata": {
    "id": "AxWLZTwYRxQd"
   },
   "outputs": [],
   "source": []
  },
  {
   "cell_type": "markdown",
   "metadata": {
    "id": "sDqUk5Dg91ay"
   },
   "source": [
    "We can access the contents of any iterable object using square brackets."
   ]
  },
  {
   "cell_type": "code",
   "execution_count": null,
   "metadata": {
    "id": "c7KMNXUQRyXk"
   },
   "outputs": [],
   "source": []
  },
  {
   "cell_type": "markdown",
   "metadata": {
    "id": "vPlS_D1q91a0"
   },
   "source": [
    "Note that Python starts counting from zero.\n",
    "This means that `z[0]` will denote the first element of the list `z`, so that `z[1]` denotes the second element.\n",
    "We can also refer to items at the end of a list, without knowing how many elements it contains."
   ]
  },
  {
   "cell_type": "code",
   "execution_count": null,
   "metadata": {
    "id": "-hqMLiuIRzXV"
   },
   "outputs": [],
   "source": []
  },
  {
   "cell_type": "markdown",
   "metadata": {
    "id": "pXUXMD66WNhd"
   },
   "source": [
    "Try defining the list below and accessing different elements inside the list:\n",
    "\n",
    "```python\n",
    "sample_list = ['a', 'b', 'c', 'a', 123, 0, 'X']\n",
    "```"
   ]
  },
  {
   "cell_type": "code",
   "execution_count": null,
   "metadata": {
    "id": "cBLduSw5WEqA"
   },
   "outputs": [],
   "source": [
    "# type here\n"
   ]
  },
  {
   "cell_type": "code",
   "execution_count": null,
   "metadata": {
    "id": "kHEGSPK8R5D_"
   },
   "outputs": [],
   "source": []
  },
  {
   "cell_type": "markdown",
   "metadata": {
    "id": "GkZCP4B2WzVk"
   },
   "source": [
    "Sometimes we want to use sequences inside a list, e.g. all items from start until the third item.\n",
    "For this we can use the slicing notation:\n",
    "```\n",
    "[start:stop:step_size]\n",
    "```\n",
    "\n",
    "If `start` is missing, the assumption is to start from 0, if `stop` is missing the assumption\n",
    "is to run up to and including the last item. If `step_size` is missing then iteration\n",
    "will go over all items between `start` and `stop`. \n",
    "\n",
    "Specifying `step_size` will display every `step_size`'th item, e.g. `[::2]` will display every second\n",
    "item starting from the first item. Note that specifying a negative number will reverse the order in which items in the list are\n",
    "displayed. Try this:\n",
    "\n",
    "```python\n",
    "sample_list[:3:-1]\n",
    "```"
   ]
  },
  {
   "cell_type": "code",
   "execution_count": null,
   "metadata": {
    "id": "dlNhGnqYW3yY"
   },
   "outputs": [],
   "source": [
    "# type here\n"
   ]
  },
  {
   "cell_type": "code",
   "execution_count": null,
   "metadata": {
    "id": "F9to8VLCW6Id"
   },
   "outputs": [],
   "source": [
    "# type here\n"
   ]
  },
  {
   "cell_type": "code",
   "execution_count": null,
   "metadata": {
    "id": "ZICqBc6oR-am"
   },
   "outputs": [],
   "source": []
  },
  {
   "cell_type": "markdown",
   "metadata": {
    "id": "DjM1PnOLXBp9"
   },
   "source": [
    "#### **Tuple**"
   ]
  },
  {
   "cell_type": "markdown",
   "metadata": {
    "id": "kSpkpGbT91a1"
   },
   "source": [
    "Another way to collect objects is using a **tuple**.\n",
    "This is similar to a `list` and it is created by using round parentheses."
   ]
  },
  {
   "cell_type": "code",
   "execution_count": null,
   "metadata": {
    "id": "rKMCtCfyQlMU"
   },
   "outputs": [],
   "source": []
  },
  {
   "cell_type": "markdown",
   "metadata": {
    "id": "xdIpyynF91a2"
   },
   "source": [
    "What distinguishes lists from tuples is the ability to replace items without creating the iterable from scratch.\n",
    "We can replace items in a list, but we cannot do so with a tuple."
   ]
  },
  {
   "cell_type": "code",
   "execution_count": null,
   "metadata": {
    "id": "2E8Pmcn4QlMV"
   },
   "outputs": [],
   "source": []
  },
  {
   "cell_type": "markdown",
   "metadata": {
    "id": "sS2SemtMXWnk"
   },
   "source": [
    "#### **Dictionary**"
   ]
  },
  {
   "cell_type": "markdown",
   "metadata": {
    "id": "lsS9aNiJ91a5"
   },
   "source": [
    "Finally, we have **dictionaries**.\n",
    "These are essentially lists, with the difference that each element is assigned to a _key_.\n",
    "We create dictionaries using curly braces.\n",
    "\n",
    "\n",
    "`Dictionary` is a data type that contains a combination of key-value items, for example:\n",
    "\n",
    "```python\n",
    "sample_dictionary = dict(math=19, econ=20, physics=16, geology=14)\n",
    "sample_dictionary_alt = {'math' =19, 'econ'= 20, 'physics'= 16, 'geology'= 14}\n",
    "print(sample_dictionary, sample_dictionary_alt)\n",
    "```\n",
    "\n",
    "Once a dictionary is defined we can access specific values by using relevant key, specifying\n",
    "it in square brackets, for example:\n",
    "\n",
    "```python\n",
    "print(sample_dictionary['econ'])\n",
    "```\n",
    "\n",
    "We can use a similar notation to add new key/value pairs to the dictionary:\n",
    "\n",
    "```python\n",
    "sample_dictionary['python'] = True\n",
    "print(sample_dictionary)\n",
    "```"
   ]
  },
  {
   "cell_type": "code",
   "execution_count": null,
   "metadata": {
    "id": "cz4bmZxRYJZB"
   },
   "outputs": [],
   "source": [
    "# type here\n"
   ]
  },
  {
   "cell_type": "code",
   "execution_count": null,
   "metadata": {
    "id": "KcuGLGErQlMV"
   },
   "outputs": [],
   "source": []
  },
  {
   "cell_type": "markdown",
   "metadata": {
    "id": "td_dZ92B91a6"
   },
   "source": [
    "The advantage of dictionaries is that we can access their elements by specifying the name of the key, rather than using a number to index the position."
   ]
  },
  {
   "cell_type": "code",
   "execution_count": null,
   "metadata": {
    "id": "J36libiBQlMW"
   },
   "outputs": [],
   "source": []
  },
  {
   "cell_type": "markdown",
   "metadata": {
    "id": "xN-rh1cRQjmj"
   },
   "source": [
    "We can access to values and keys of dictionary with below commands:"
   ]
  },
  {
   "cell_type": "code",
   "execution_count": null,
   "metadata": {
    "id": "B0DfcHdfQlMW"
   },
   "outputs": [],
   "source": []
  },
  {
   "cell_type": "code",
   "execution_count": null,
   "metadata": {
    "id": "caTuuQ2uQlMW"
   },
   "outputs": [],
   "source": []
  }
 ],
 "metadata": {
  "colab": {
   "collapsed_sections": [],
   "name": "basic python.ipynb",
   "provenance": [
    {
     "file_id": "https://github.com/AndreaPasqualini/intro_to_python_with_networks/blob/master/class_notebooks/intro_to_python.ipynb",
     "timestamp": 1635409094608
    }
   ]
  },
  "kernelspec": {
   "display_name": "Python 3",
   "language": "python",
   "name": "python3"
  },
  "language_info": {
   "codemirror_mode": {
    "name": "ipython",
    "version": 3
   },
   "file_extension": ".py",
   "mimetype": "text/x-python",
   "name": "python",
   "nbconvert_exporter": "python",
   "pygments_lexer": "ipython3",
   "version": "3.8.8"
  }
 },
 "nbformat": 4,
 "nbformat_minor": 1
}
